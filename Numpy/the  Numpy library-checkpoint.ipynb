{
 "cells": [
  {
   "cell_type": "markdown",
   "metadata": {},
   "source": [
    "# importing numpy"
   ]
  },
  {
   "cell_type": "code",
   "execution_count": 1,
   "metadata": {},
   "outputs": [],
   "source": [
    "import numpy as np"
   ]
  },
  {
   "cell_type": "code",
   "execution_count": 2,
   "metadata": {},
   "outputs": [
    {
     "data": {
      "text/plain": [
       "<module 'numpy' from 'C:\\\\Users\\\\ABDULLAH\\\\anaconda3\\\\lib\\\\site-packages\\\\numpy\\\\__init__.py'>"
      ]
     },
     "execution_count": 2,
     "metadata": {},
     "output_type": "execute_result"
    }
   ],
   "source": [
    "np"
   ]
  },
  {
   "cell_type": "markdown",
   "metadata": {},
   "source": [
    "# Ndarray: The Heart of the Library\n",
    "To define a new ndarray, the easiest way is to use the array() function"
   ]
  },
  {
   "cell_type": "code",
   "execution_count": 3,
   "metadata": {},
   "outputs": [],
   "source": [
    "# one dimensional array\n",
    "a=np.array([1,2,3,4])"
   ]
  },
  {
   "cell_type": "code",
   "execution_count": 4,
   "metadata": {},
   "outputs": [
    {
     "data": {
      "text/plain": [
       "array([1, 2, 3, 4])"
      ]
     },
     "execution_count": 4,
     "metadata": {},
     "output_type": "execute_result"
    }
   ],
   "source": [
    "a"
   ]
  },
  {
   "cell_type": "code",
   "execution_count": 5,
   "metadata": {},
   "outputs": [
    {
     "data": {
      "text/plain": [
       "numpy.ndarray"
      ]
     },
     "execution_count": 5,
     "metadata": {},
     "output_type": "execute_result"
    }
   ],
   "source": [
    "type(a)"
   ]
  },
  {
   "cell_type": "code",
   "execution_count": 6,
   "metadata": {},
   "outputs": [
    {
     "data": {
      "text/plain": [
       "dtype('int32')"
      ]
     },
     "execution_count": 6,
     "metadata": {},
     "output_type": "execute_result"
    }
   ],
   "source": [
    "a.dtype"
   ]
  },
  {
   "cell_type": "code",
   "execution_count": 7,
   "metadata": {},
   "outputs": [
    {
     "data": {
      "text/plain": [
       "1"
      ]
     },
     "execution_count": 7,
     "metadata": {},
     "output_type": "execute_result"
    }
   ],
   "source": [
    "# to find dimension ndim function is used\n",
    "a.ndim"
   ]
  },
  {
   "cell_type": "code",
   "execution_count": 8,
   "metadata": {},
   "outputs": [
    {
     "data": {
      "text/plain": [
       "4"
      ]
     },
     "execution_count": 8,
     "metadata": {},
     "output_type": "execute_result"
    }
   ],
   "source": [
    "# to find array size\n",
    "a.size"
   ]
  },
  {
   "cell_type": "code",
   "execution_count": 9,
   "metadata": {},
   "outputs": [
    {
     "data": {
      "text/plain": [
       "(4,)"
      ]
     },
     "execution_count": 9,
     "metadata": {},
     "output_type": "execute_result"
    }
   ],
   "source": [
    "a.shape"
   ]
  },
  {
   "cell_type": "code",
   "execution_count": 10,
   "metadata": {},
   "outputs": [],
   "source": [
    "# two dimensional array\n",
    "two_d=np.array([[1,2,3,4],[5,6,7,8]])"
   ]
  },
  {
   "cell_type": "code",
   "execution_count": 11,
   "metadata": {},
   "outputs": [
    {
     "data": {
      "text/plain": [
       "array([[1, 2, 3, 4],\n",
       "       [5, 6, 7, 8]])"
      ]
     },
     "execution_count": 11,
     "metadata": {},
     "output_type": "execute_result"
    }
   ],
   "source": [
    "two_d"
   ]
  },
  {
   "cell_type": "code",
   "execution_count": 12,
   "metadata": {},
   "outputs": [
    {
     "data": {
      "text/plain": [
       "2"
      ]
     },
     "execution_count": 12,
     "metadata": {},
     "output_type": "execute_result"
    }
   ],
   "source": [
    "two_d.ndim"
   ]
  },
  {
   "cell_type": "code",
   "execution_count": 13,
   "metadata": {},
   "outputs": [
    {
     "data": {
      "text/plain": [
       "8"
      ]
     },
     "execution_count": 13,
     "metadata": {},
     "output_type": "execute_result"
    }
   ],
   "source": [
    "two_d.size"
   ]
  },
  {
   "cell_type": "code",
   "execution_count": 14,
   "metadata": {},
   "outputs": [
    {
     "data": {
      "text/plain": [
       "(2, 4)"
      ]
     },
     "execution_count": 14,
     "metadata": {},
     "output_type": "execute_result"
    }
   ],
   "source": [
    "two_d.shape"
   ]
  },
  {
   "cell_type": "code",
   "execution_count": 15,
   "metadata": {},
   "outputs": [
    {
     "data": {
      "text/plain": [
       "4"
      ]
     },
     "execution_count": 15,
     "metadata": {},
     "output_type": "execute_result"
    }
   ],
   "source": [
    "#size of each item in bytes\n",
    "two_d.itemsize"
   ]
  },
  {
   "cell_type": "code",
   "execution_count": 16,
   "metadata": {},
   "outputs": [
    {
     "data": {
      "text/plain": [
       "<memory at 0x00000203397BDD68>"
      ]
     },
     "execution_count": 16,
     "metadata": {},
     "output_type": "execute_result"
    }
   ],
   "source": [
    "#data is the buffer containing the actual elements of the array\n",
    "two_d.data"
   ]
  },
  {
   "cell_type": "markdown",
   "metadata": {},
   "source": [
    "# Create an Array"
   ]
  },
  {
   "cell_type": "code",
   "execution_count": 17,
   "metadata": {},
   "outputs": [],
   "source": [
    "# one dimensional array\n",
    "a=np.array([1,2,3,4])\n",
    "\n",
    "# two dimensional array\n",
    "two_d=np.array([[1,2,3,4],[5,6,7,8]])"
   ]
  },
  {
   "cell_type": "code",
   "execution_count": 18,
   "metadata": {},
   "outputs": [
    {
     "data": {
      "text/plain": [
       "array([1, 2, 3, 4])"
      ]
     },
     "execution_count": 18,
     "metadata": {},
     "output_type": "execute_result"
    }
   ],
   "source": [
    "a"
   ]
  },
  {
   "cell_type": "code",
   "execution_count": 19,
   "metadata": {},
   "outputs": [
    {
     "data": {
      "text/plain": [
       "array([[1, 2, 3, 4],\n",
       "       [5, 6, 7, 8]])"
      ]
     },
     "execution_count": 19,
     "metadata": {},
     "output_type": "execute_result"
    }
   ],
   "source": [
    "two_d"
   ]
  },
  {
   "cell_type": "code",
   "execution_count": 20,
   "metadata": {},
   "outputs": [],
   "source": [
    "# three dimensional array\n",
    "e=np.array([[1,3,5],(4,2,6),[7,8,9]])"
   ]
  },
  {
   "cell_type": "code",
   "execution_count": 21,
   "metadata": {},
   "outputs": [
    {
     "data": {
      "text/plain": [
       "array([[1, 3, 5],\n",
       "       [4, 2, 6],\n",
       "       [7, 8, 9]])"
      ]
     },
     "execution_count": 21,
     "metadata": {},
     "output_type": "execute_result"
    }
   ],
   "source": [
    "e"
   ]
  },
  {
   "cell_type": "markdown",
   "metadata": {},
   "source": [
    "# Types of Data"
   ]
  },
  {
   "cell_type": "code",
   "execution_count": 22,
   "metadata": {},
   "outputs": [],
   "source": [
    "g=np.array([['a','b','c','d'],['e','f','g','h']])"
   ]
  },
  {
   "cell_type": "code",
   "execution_count": 23,
   "metadata": {},
   "outputs": [
    {
     "data": {
      "text/plain": [
       "array([['a', 'b', 'c', 'd'],\n",
       "       ['e', 'f', 'g', 'h']], dtype='<U1')"
      ]
     },
     "execution_count": 23,
     "metadata": {},
     "output_type": "execute_result"
    }
   ],
   "source": [
    "g"
   ]
  },
  {
   "cell_type": "code",
   "execution_count": 24,
   "metadata": {},
   "outputs": [
    {
     "data": {
      "text/plain": [
       "dtype('<U1')"
      ]
     },
     "execution_count": 24,
     "metadata": {},
     "output_type": "execute_result"
    }
   ],
   "source": [
    "g.dtype"
   ]
  },
  {
   "cell_type": "code",
   "execution_count": 25,
   "metadata": {},
   "outputs": [
    {
     "data": {
      "text/plain": [
       "'str32'"
      ]
     },
     "execution_count": 25,
     "metadata": {},
     "output_type": "execute_result"
    }
   ],
   "source": [
    "g.dtype.name"
   ]
  },
  {
   "cell_type": "markdown",
   "metadata": {},
   "source": [
    "# The dtype Option"
   ]
  },
  {
   "cell_type": "code",
   "execution_count": 26,
   "metadata": {},
   "outputs": [],
   "source": [
    "com=np.array([[1,2,3],[4,5,6]],dtype=complex)"
   ]
  },
  {
   "cell_type": "code",
   "execution_count": 27,
   "metadata": {},
   "outputs": [
    {
     "data": {
      "text/plain": [
       "array([[1.+0.j, 2.+0.j, 3.+0.j],\n",
       "       [4.+0.j, 5.+0.j, 6.+0.j]])"
      ]
     },
     "execution_count": 27,
     "metadata": {},
     "output_type": "execute_result"
    }
   ],
   "source": [
    "com"
   ]
  },
  {
   "cell_type": "code",
   "execution_count": 28,
   "metadata": {},
   "outputs": [],
   "source": [
    "fl=np.array([[1,2,3],[4,5,6]],dtype=float)"
   ]
  },
  {
   "cell_type": "code",
   "execution_count": 29,
   "metadata": {},
   "outputs": [
    {
     "data": {
      "text/plain": [
       "array([[1., 2., 3.],\n",
       "       [4., 5., 6.]])"
      ]
     },
     "execution_count": 29,
     "metadata": {},
     "output_type": "execute_result"
    }
   ],
   "source": [
    "fl"
   ]
  },
  {
   "cell_type": "markdown",
   "metadata": {},
   "source": [
    "# Intrinsic Creation of an Array"
   ]
  },
  {
   "cell_type": "code",
   "execution_count": 30,
   "metadata": {},
   "outputs": [],
   "source": [
    "#The zeros() function, for example, creates a full array of zeros with dimensions defined by the shape argument\n",
    "z=np.zeros((5,5))"
   ]
  },
  {
   "cell_type": "code",
   "execution_count": 31,
   "metadata": {},
   "outputs": [
    {
     "data": {
      "text/plain": [
       "array([[0., 0., 0., 0., 0.],\n",
       "       [0., 0., 0., 0., 0.],\n",
       "       [0., 0., 0., 0., 0.],\n",
       "       [0., 0., 0., 0., 0.],\n",
       "       [0., 0., 0., 0., 0.]])"
      ]
     },
     "execution_count": 31,
     "metadata": {},
     "output_type": "execute_result"
    }
   ],
   "source": [
    "z"
   ]
  },
  {
   "cell_type": "code",
   "execution_count": 32,
   "metadata": {},
   "outputs": [],
   "source": [
    "z=np.zeros((3,3))"
   ]
  },
  {
   "cell_type": "code",
   "execution_count": 33,
   "metadata": {},
   "outputs": [
    {
     "data": {
      "text/plain": [
       "array([[0., 0., 0.],\n",
       "       [0., 0., 0.],\n",
       "       [0., 0., 0.]])"
      ]
     },
     "execution_count": 33,
     "metadata": {},
     "output_type": "execute_result"
    }
   ],
   "source": [
    "z"
   ]
  },
  {
   "cell_type": "code",
   "execution_count": 34,
   "metadata": {},
   "outputs": [],
   "source": [
    "#  ones() function creates an array full of ones\n",
    "one=np.ones((4,4))"
   ]
  },
  {
   "cell_type": "code",
   "execution_count": 35,
   "metadata": {},
   "outputs": [
    {
     "data": {
      "text/plain": [
       "array([[1., 1., 1., 1.],\n",
       "       [1., 1., 1., 1.],\n",
       "       [1., 1., 1., 1.],\n",
       "       [1., 1., 1., 1.]])"
      ]
     },
     "execution_count": 35,
     "metadata": {},
     "output_type": "execute_result"
    }
   ],
   "source": [
    "one"
   ]
  },
  {
   "cell_type": "code",
   "execution_count": 36,
   "metadata": {},
   "outputs": [
    {
     "data": {
      "text/plain": [
       "array([[1., 1., 1., 1.],\n",
       "       [1., 1., 1., 1.],\n",
       "       [1., 1., 1., 1.],\n",
       "       [1., 1., 1., 1.]])"
      ]
     },
     "execution_count": 36,
     "metadata": {},
     "output_type": "execute_result"
    }
   ],
   "source": [
    "one"
   ]
  },
  {
   "cell_type": "code",
   "execution_count": 37,
   "metadata": {},
   "outputs": [
    {
     "data": {
      "text/plain": [
       "2"
      ]
     },
     "execution_count": 37,
     "metadata": {},
     "output_type": "execute_result"
    }
   ],
   "source": [
    "one.ndim"
   ]
  },
  {
   "cell_type": "code",
   "execution_count": 38,
   "metadata": {},
   "outputs": [
    {
     "data": {
      "text/plain": [
       "(4, 4)"
      ]
     },
     "execution_count": 38,
     "metadata": {},
     "output_type": "execute_result"
    }
   ],
   "source": [
    "one.shape"
   ]
  },
  {
   "cell_type": "code",
   "execution_count": 39,
   "metadata": {},
   "outputs": [
    {
     "data": {
      "text/plain": [
       "16"
      ]
     },
     "execution_count": 39,
     "metadata": {},
     "output_type": "execute_result"
    }
   ],
   "source": [
    "one.size"
   ]
  },
  {
   "cell_type": "code",
   "execution_count": 40,
   "metadata": {},
   "outputs": [
    {
     "data": {
      "text/plain": [
       "8"
      ]
     },
     "execution_count": 40,
     "metadata": {},
     "output_type": "execute_result"
    }
   ],
   "source": [
    "one.itemsize"
   ]
  },
  {
   "cell_type": "code",
   "execution_count": 41,
   "metadata": {},
   "outputs": [],
   "source": [
    "# arange(). This function generates NumPy arrays with numerical sequences that respond to particular rules depending on the passed arguments\n",
    "ar=np.arange(0,10)"
   ]
  },
  {
   "cell_type": "code",
   "execution_count": 42,
   "metadata": {},
   "outputs": [
    {
     "data": {
      "text/plain": [
       "array([0, 1, 2, 3, 4, 5, 6, 7, 8, 9])"
      ]
     },
     "execution_count": 42,
     "metadata": {},
     "output_type": "execute_result"
    }
   ],
   "source": [
    "ar"
   ]
  },
  {
   "cell_type": "code",
   "execution_count": 43,
   "metadata": {},
   "outputs": [
    {
     "data": {
      "text/plain": [
       "array([100, 101, 102, 103, 104, 105, 106, 107, 108, 109, 110, 111, 112,\n",
       "       113, 114, 115, 116, 117, 118, 119, 120, 121, 122, 123, 124])"
      ]
     },
     "execution_count": 43,
     "metadata": {},
     "output_type": "execute_result"
    }
   ],
   "source": [
    "ar1=np.arange(100,125)\n",
    "ar1"
   ]
  },
  {
   "cell_type": "code",
   "execution_count": 44,
   "metadata": {},
   "outputs": [
    {
     "data": {
      "text/plain": [
       "array([ 1,  4,  7, 10, 13, 16, 19, 22, 25, 28, 31, 34, 37, 40, 43, 46, 49,\n",
       "       52, 55, 58, 61, 64, 67, 70, 73, 76, 79, 82, 85, 88, 91, 94, 97])"
      ]
     },
     "execution_count": 44,
     "metadata": {},
     "output_type": "execute_result"
    }
   ],
   "source": [
    "ar2=np.arange(1,100,3)\n",
    "ar2"
   ]
  },
  {
   "cell_type": "code",
   "execution_count": 45,
   "metadata": {},
   "outputs": [],
   "source": [
    "#  reshape() function. This function dividesa linear array in different parts in the manner specified by the shape argument.\n",
    "ar_re=np.arange(1,25).reshape(4,6)\n"
   ]
  },
  {
   "cell_type": "code",
   "execution_count": 46,
   "metadata": {},
   "outputs": [
    {
     "data": {
      "text/plain": [
       "array([[ 1,  2,  3,  4,  5,  6],\n",
       "       [ 7,  8,  9, 10, 11, 12],\n",
       "       [13, 14, 15, 16, 17, 18],\n",
       "       [19, 20, 21, 22, 23, 24]])"
      ]
     },
     "execution_count": 46,
     "metadata": {},
     "output_type": "execute_result"
    }
   ],
   "source": [
    "ar_re"
   ]
  },
  {
   "cell_type": "code",
   "execution_count": 47,
   "metadata": {},
   "outputs": [],
   "source": [
    "ar_re2=np.arange(0,30).reshape(10,3)"
   ]
  },
  {
   "cell_type": "code",
   "execution_count": 48,
   "metadata": {},
   "outputs": [
    {
     "data": {
      "text/plain": [
       "array([[ 0,  1,  2],\n",
       "       [ 3,  4,  5],\n",
       "       [ 6,  7,  8],\n",
       "       [ 9, 10, 11],\n",
       "       [12, 13, 14],\n",
       "       [15, 16, 17],\n",
       "       [18, 19, 20],\n",
       "       [21, 22, 23],\n",
       "       [24, 25, 26],\n",
       "       [27, 28, 29]])"
      ]
     },
     "execution_count": 48,
     "metadata": {},
     "output_type": "execute_result"
    }
   ],
   "source": [
    "ar_re2"
   ]
  },
  {
   "cell_type": "markdown",
   "metadata": {},
   "source": [
    "#  linspace(). This function still takes as its first two\n",
    "arguments the initial and end values of the sequence, but the third argument, instead of specifying the\n",
    "distance between one element and the next, defines the number of elements into which we want the interval\n",
    "to be split."
   ]
  },
  {
   "cell_type": "code",
   "execution_count": 49,
   "metadata": {},
   "outputs": [],
   "source": [
    "arr4=np.linspace(1,10,3)"
   ]
  },
  {
   "cell_type": "code",
   "execution_count": 50,
   "metadata": {},
   "outputs": [
    {
     "data": {
      "text/plain": [
       "array([ 1. ,  5.5, 10. ])"
      ]
     },
     "execution_count": 50,
     "metadata": {},
     "output_type": "execute_result"
    }
   ],
   "source": [
    "arr4"
   ]
  },
  {
   "cell_type": "code",
   "execution_count": 51,
   "metadata": {},
   "outputs": [],
   "source": [
    "arr5=np.linspace(1,10,5)"
   ]
  },
  {
   "cell_type": "code",
   "execution_count": 52,
   "metadata": {},
   "outputs": [
    {
     "data": {
      "text/plain": [
       "array([ 1.  ,  3.25,  5.5 ,  7.75, 10.  ])"
      ]
     },
     "execution_count": 52,
     "metadata": {},
     "output_type": "execute_result"
    }
   ],
   "source": [
    "arr5"
   ]
  },
  {
   "cell_type": "code",
   "execution_count": 53,
   "metadata": {},
   "outputs": [],
   "source": [
    "arr=np.linspace(1,10,10)"
   ]
  },
  {
   "cell_type": "code",
   "execution_count": 54,
   "metadata": {},
   "outputs": [
    {
     "data": {
      "text/plain": [
       "array([ 1.,  2.,  3.,  4.,  5.,  6.,  7.,  8.,  9., 10.])"
      ]
     },
     "execution_count": 54,
     "metadata": {},
     "output_type": "execute_result"
    }
   ],
   "source": [
    "arr"
   ]
  },
  {
   "cell_type": "markdown",
   "metadata": {},
   "source": [
    "# Random"
   ]
  },
  {
   "cell_type": "code",
   "execution_count": 55,
   "metadata": {},
   "outputs": [
    {
     "data": {
      "text/plain": [
       "array([0.02264097, 0.4961672 , 0.54826999])"
      ]
     },
     "execution_count": 55,
     "metadata": {},
     "output_type": "execute_result"
    }
   ],
   "source": [
    "np.random.random(3)"
   ]
  },
  {
   "cell_type": "code",
   "execution_count": 56,
   "metadata": {},
   "outputs": [
    {
     "data": {
      "text/plain": [
       "array([[0.26221286, 0.02947736, 0.42045459],\n",
       "       [0.47502973, 0.84595555, 0.0299708 ],\n",
       "       [0.95130659, 0.62320449, 0.10145021]])"
      ]
     },
     "execution_count": 56,
     "metadata": {},
     "output_type": "execute_result"
    }
   ],
   "source": [
    "np.random.rand(3,3)"
   ]
  },
  {
   "cell_type": "markdown",
   "metadata": {},
   "source": [
    "# Arithmetic operation"
   ]
  },
  {
   "cell_type": "code",
   "execution_count": 57,
   "metadata": {},
   "outputs": [
    {
     "data": {
      "text/plain": [
       "array([0, 1, 2, 3])"
      ]
     },
     "execution_count": 57,
     "metadata": {},
     "output_type": "execute_result"
    }
   ],
   "source": [
    "a=np.arange(4)\n",
    "a"
   ]
  },
  {
   "cell_type": "code",
   "execution_count": 58,
   "metadata": {},
   "outputs": [
    {
     "data": {
      "text/plain": [
       "array([4, 5, 6, 7])"
      ]
     },
     "execution_count": 58,
     "metadata": {},
     "output_type": "execute_result"
    }
   ],
   "source": [
    "a+4"
   ]
  },
  {
   "cell_type": "code",
   "execution_count": 59,
   "metadata": {},
   "outputs": [
    {
     "data": {
      "text/plain": [
       "array([0.  , 0.25, 0.5 , 0.75])"
      ]
     },
     "execution_count": 59,
     "metadata": {},
     "output_type": "execute_result"
    }
   ],
   "source": [
    "a/4"
   ]
  },
  {
   "cell_type": "code",
   "execution_count": 60,
   "metadata": {},
   "outputs": [
    {
     "data": {
      "text/plain": [
       "array([ 0,  4,  8, 12])"
      ]
     },
     "execution_count": 60,
     "metadata": {},
     "output_type": "execute_result"
    }
   ],
   "source": [
    "a*4"
   ]
  },
  {
   "cell_type": "code",
   "execution_count": 61,
   "metadata": {},
   "outputs": [
    {
     "data": {
      "text/plain": [
       "array([-4, -3, -2, -1])"
      ]
     },
     "execution_count": 61,
     "metadata": {},
     "output_type": "execute_result"
    }
   ],
   "source": [
    "a-4"
   ]
  },
  {
   "cell_type": "code",
   "execution_count": 62,
   "metadata": {},
   "outputs": [
    {
     "data": {
      "text/plain": [
       "array([0, 1, 2, 3])"
      ]
     },
     "execution_count": 62,
     "metadata": {},
     "output_type": "execute_result"
    }
   ],
   "source": [
    "a"
   ]
  },
  {
   "cell_type": "code",
   "execution_count": 63,
   "metadata": {},
   "outputs": [],
   "source": [
    "b=np.arange(4,8)"
   ]
  },
  {
   "cell_type": "code",
   "execution_count": 64,
   "metadata": {},
   "outputs": [
    {
     "data": {
      "text/plain": [
       "array([4, 5, 6, 7])"
      ]
     },
     "execution_count": 64,
     "metadata": {},
     "output_type": "execute_result"
    }
   ],
   "source": [
    "b"
   ]
  },
  {
   "cell_type": "code",
   "execution_count": 65,
   "metadata": {},
   "outputs": [
    {
     "data": {
      "text/plain": [
       "array([ 4,  6,  8, 10])"
      ]
     },
     "execution_count": 65,
     "metadata": {},
     "output_type": "execute_result"
    }
   ],
   "source": [
    "a+b"
   ]
  },
  {
   "cell_type": "code",
   "execution_count": 66,
   "metadata": {},
   "outputs": [
    {
     "data": {
      "text/plain": [
       "array([-4, -4, -4, -4])"
      ]
     },
     "execution_count": 66,
     "metadata": {},
     "output_type": "execute_result"
    }
   ],
   "source": [
    "a-b"
   ]
  },
  {
   "cell_type": "code",
   "execution_count": 67,
   "metadata": {},
   "outputs": [
    {
     "data": {
      "text/plain": [
       "array([4, 4, 4, 4])"
      ]
     },
     "execution_count": 67,
     "metadata": {},
     "output_type": "execute_result"
    }
   ],
   "source": [
    "b-a"
   ]
  },
  {
   "cell_type": "code",
   "execution_count": 68,
   "metadata": {},
   "outputs": [
    {
     "data": {
      "text/plain": [
       "array([0.        , 0.2       , 0.33333333, 0.42857143])"
      ]
     },
     "execution_count": 68,
     "metadata": {},
     "output_type": "execute_result"
    }
   ],
   "source": [
    "a/b"
   ]
  },
  {
   "cell_type": "code",
   "execution_count": 69,
   "metadata": {},
   "outputs": [
    {
     "data": {
      "text/plain": [
       "array([ 0,  5, 12, 21])"
      ]
     },
     "execution_count": 69,
     "metadata": {},
     "output_type": "execute_result"
    }
   ],
   "source": [
    "a*b"
   ]
  },
  {
   "cell_type": "code",
   "execution_count": 70,
   "metadata": {},
   "outputs": [
    {
     "data": {
      "text/plain": [
       "array([-0.        , -0.95892427, -0.558831  ,  1.9709598 ])"
      ]
     },
     "execution_count": 70,
     "metadata": {},
     "output_type": "execute_result"
    }
   ],
   "source": [
    "a*np.sin(b)"
   ]
  },
  {
   "cell_type": "code",
   "execution_count": 71,
   "metadata": {},
   "outputs": [
    {
     "ename": "NameError",
     "evalue": "name 'sqrt' is not defined",
     "output_type": "error",
     "traceback": [
      "\u001b[1;31m---------------------------------------------------------------------------\u001b[0m",
      "\u001b[1;31mNameError\u001b[0m                                 Traceback (most recent call last)",
      "\u001b[1;32m<ipython-input-71-8a54e8315b9a>\u001b[0m in \u001b[0;36m<module>\u001b[1;34m\u001b[0m\n\u001b[1;32m----> 1\u001b[1;33m \u001b[0ma\u001b[0m\u001b[1;33m*\u001b[0m\u001b[0msqrt\u001b[0m\u001b[1;33m(\u001b[0m\u001b[0mb\u001b[0m\u001b[1;33m)\u001b[0m\u001b[1;33m\u001b[0m\u001b[1;33m\u001b[0m\u001b[0m\n\u001b[0m",
      "\u001b[1;31mNameError\u001b[0m: name 'sqrt' is not defined"
     ]
    }
   ],
   "source": [
    "a*sqrt(b)"
   ]
  },
  {
   "cell_type": "code",
   "execution_count": 72,
   "metadata": {},
   "outputs": [
    {
     "data": {
      "text/plain": [
       "array([0.        , 2.23606798, 4.89897949, 7.93725393])"
      ]
     },
     "execution_count": 72,
     "metadata": {},
     "output_type": "execute_result"
    }
   ],
   "source": [
    "a*np.sqrt(b)"
   ]
  },
  {
   "cell_type": "code",
   "execution_count": 73,
   "metadata": {},
   "outputs": [],
   "source": [
    "A=np.arange(9).reshape((3,3))"
   ]
  },
  {
   "cell_type": "code",
   "execution_count": 74,
   "metadata": {},
   "outputs": [
    {
     "data": {
      "text/plain": [
       "array([[0, 1, 2],\n",
       "       [3, 4, 5],\n",
       "       [6, 7, 8]])"
      ]
     },
     "execution_count": 74,
     "metadata": {},
     "output_type": "execute_result"
    }
   ],
   "source": [
    "A"
   ]
  },
  {
   "cell_type": "code",
   "execution_count": 75,
   "metadata": {},
   "outputs": [],
   "source": [
    "B=np.ones((3,3))"
   ]
  },
  {
   "cell_type": "code",
   "execution_count": 76,
   "metadata": {},
   "outputs": [
    {
     "data": {
      "text/plain": [
       "array([[1., 1., 1.],\n",
       "       [1., 1., 1.],\n",
       "       [1., 1., 1.]])"
      ]
     },
     "execution_count": 76,
     "metadata": {},
     "output_type": "execute_result"
    }
   ],
   "source": [
    "B"
   ]
  },
  {
   "cell_type": "code",
   "execution_count": 77,
   "metadata": {},
   "outputs": [
    {
     "data": {
      "text/plain": [
       "array([[1., 2., 3.],\n",
       "       [4., 5., 6.],\n",
       "       [7., 8., 9.]])"
      ]
     },
     "execution_count": 77,
     "metadata": {},
     "output_type": "execute_result"
    }
   ],
   "source": [
    "A+B"
   ]
  },
  {
   "cell_type": "code",
   "execution_count": 78,
   "metadata": {},
   "outputs": [
    {
     "data": {
      "text/plain": [
       "array([[0., 1., 2.],\n",
       "       [3., 4., 5.],\n",
       "       [6., 7., 8.]])"
      ]
     },
     "execution_count": 78,
     "metadata": {},
     "output_type": "execute_result"
    }
   ],
   "source": [
    "A*B"
   ]
  },
  {
   "cell_type": "markdown",
   "metadata": {},
   "source": [
    "# The Matrix Product\n",
    "dot() function"
   ]
  },
  {
   "cell_type": "code",
   "execution_count": 79,
   "metadata": {},
   "outputs": [
    {
     "data": {
      "text/plain": [
       "array([[ 3.,  3.,  3.],\n",
       "       [12., 12., 12.],\n",
       "       [21., 21., 21.]])"
      ]
     },
     "execution_count": 79,
     "metadata": {},
     "output_type": "execute_result"
    }
   ],
   "source": [
    "A.dot(B)"
   ]
  },
  {
   "cell_type": "code",
   "execution_count": 80,
   "metadata": {},
   "outputs": [
    {
     "ename": "NameError",
     "evalue": "name 'dot' is not defined",
     "output_type": "error",
     "traceback": [
      "\u001b[1;31m---------------------------------------------------------------------------\u001b[0m",
      "\u001b[1;31mNameError\u001b[0m                                 Traceback (most recent call last)",
      "\u001b[1;32m<ipython-input-80-e0fa25f97e6d>\u001b[0m in \u001b[0;36m<module>\u001b[1;34m\u001b[0m\n\u001b[1;32m----> 1\u001b[1;33m \u001b[0mdot\u001b[0m\u001b[1;33m(\u001b[0m\u001b[0mA\u001b[0m\u001b[1;33m,\u001b[0m\u001b[0mB\u001b[0m\u001b[1;33m)\u001b[0m\u001b[1;33m\u001b[0m\u001b[1;33m\u001b[0m\u001b[0m\n\u001b[0m",
      "\u001b[1;31mNameError\u001b[0m: name 'dot' is not defined"
     ]
    }
   ],
   "source": [
    "dot(A,B)"
   ]
  },
  {
   "cell_type": "code",
   "execution_count": 81,
   "metadata": {},
   "outputs": [
    {
     "data": {
      "text/plain": [
       "array([[ 3.,  3.,  3.],\n",
       "       [12., 12., 12.],\n",
       "       [21., 21., 21.]])"
      ]
     },
     "execution_count": 81,
     "metadata": {},
     "output_type": "execute_result"
    }
   ],
   "source": [
    "np.dot(A,B)"
   ]
  },
  {
   "cell_type": "code",
   "execution_count": 82,
   "metadata": {},
   "outputs": [
    {
     "data": {
      "text/plain": [
       "array([[ 9., 12., 15.],\n",
       "       [ 9., 12., 15.],\n",
       "       [ 9., 12., 15.]])"
      ]
     },
     "execution_count": 82,
     "metadata": {},
     "output_type": "execute_result"
    }
   ],
   "source": [
    "B.dot(A)"
   ]
  },
  {
   "cell_type": "code",
   "execution_count": 83,
   "metadata": {},
   "outputs": [
    {
     "data": {
      "text/plain": [
       "array([[ 9., 12., 15.],\n",
       "       [ 9., 12., 15.],\n",
       "       [ 9., 12., 15.]])"
      ]
     },
     "execution_count": 83,
     "metadata": {},
     "output_type": "execute_result"
    }
   ],
   "source": [
    "np.dot(B,A)"
   ]
  },
  {
   "cell_type": "markdown",
   "metadata": {},
   "source": [
    "# Increment and Decrement Operators"
   ]
  },
  {
   "cell_type": "code",
   "execution_count": 84,
   "metadata": {},
   "outputs": [
    {
     "data": {
      "text/plain": [
       "array([0, 1, 2, 3])"
      ]
     },
     "execution_count": 84,
     "metadata": {},
     "output_type": "execute_result"
    }
   ],
   "source": [
    "a"
   ]
  },
  {
   "cell_type": "code",
   "execution_count": 85,
   "metadata": {},
   "outputs": [],
   "source": [
    "a+=1"
   ]
  },
  {
   "cell_type": "code",
   "execution_count": 86,
   "metadata": {},
   "outputs": [
    {
     "data": {
      "text/plain": [
       "array([1, 2, 3, 4])"
      ]
     },
     "execution_count": 86,
     "metadata": {},
     "output_type": "execute_result"
    }
   ],
   "source": [
    "a"
   ]
  },
  {
   "cell_type": "code",
   "execution_count": 87,
   "metadata": {},
   "outputs": [],
   "source": [
    "a-=1"
   ]
  },
  {
   "cell_type": "code",
   "execution_count": 88,
   "metadata": {},
   "outputs": [
    {
     "data": {
      "text/plain": [
       "array([0, 1, 2, 3])"
      ]
     },
     "execution_count": 88,
     "metadata": {},
     "output_type": "execute_result"
    }
   ],
   "source": [
    "a"
   ]
  },
  {
   "cell_type": "code",
   "execution_count": 89,
   "metadata": {},
   "outputs": [],
   "source": [
    "a+=5"
   ]
  },
  {
   "cell_type": "code",
   "execution_count": 90,
   "metadata": {},
   "outputs": [
    {
     "data": {
      "text/plain": [
       "array([5, 6, 7, 8])"
      ]
     },
     "execution_count": 90,
     "metadata": {},
     "output_type": "execute_result"
    }
   ],
   "source": [
    "a"
   ]
  },
  {
   "cell_type": "code",
   "execution_count": 91,
   "metadata": {},
   "outputs": [],
   "source": [
    "a*=6"
   ]
  },
  {
   "cell_type": "code",
   "execution_count": 92,
   "metadata": {},
   "outputs": [
    {
     "data": {
      "text/plain": [
       "array([30, 36, 42, 48])"
      ]
     },
     "execution_count": 92,
     "metadata": {},
     "output_type": "execute_result"
    }
   ],
   "source": [
    "a"
   ]
  },
  {
   "cell_type": "markdown",
   "metadata": {},
   "source": [
    "# Universal Functions (ufunc)"
   ]
  },
  {
   "cell_type": "code",
   "execution_count": 93,
   "metadata": {},
   "outputs": [
    {
     "data": {
      "text/plain": [
       "array([30, 36, 42, 48])"
      ]
     },
     "execution_count": 93,
     "metadata": {},
     "output_type": "execute_result"
    }
   ],
   "source": [
    "a"
   ]
  },
  {
   "cell_type": "code",
   "execution_count": 94,
   "metadata": {},
   "outputs": [
    {
     "ename": "AttributeError",
     "evalue": "'numpy.ndarray' object has no attribute 'np'",
     "output_type": "error",
     "traceback": [
      "\u001b[1;31m---------------------------------------------------------------------------\u001b[0m",
      "\u001b[1;31mAttributeError\u001b[0m                            Traceback (most recent call last)",
      "\u001b[1;32m<ipython-input-94-dcd7745c33e9>\u001b[0m in \u001b[0;36m<module>\u001b[1;34m\u001b[0m\n\u001b[1;32m----> 1\u001b[1;33m \u001b[0ma\u001b[0m\u001b[1;33m.\u001b[0m\u001b[0mnp\u001b[0m\u001b[1;33m.\u001b[0m\u001b[0msqrt\u001b[0m\u001b[1;33m(\u001b[0m\u001b[1;33m)\u001b[0m\u001b[1;33m\u001b[0m\u001b[1;33m\u001b[0m\u001b[0m\n\u001b[0m",
      "\u001b[1;31mAttributeError\u001b[0m: 'numpy.ndarray' object has no attribute 'np'"
     ]
    }
   ],
   "source": [
    "a.np.sqrt()"
   ]
  },
  {
   "cell_type": "code",
   "execution_count": 95,
   "metadata": {},
   "outputs": [
    {
     "data": {
      "text/plain": [
       "array([5.47722558, 6.        , 6.4807407 , 6.92820323])"
      ]
     },
     "execution_count": 95,
     "metadata": {},
     "output_type": "execute_result"
    }
   ],
   "source": [
    "np.sqrt(a)"
   ]
  },
  {
   "cell_type": "code",
   "execution_count": 96,
   "metadata": {},
   "outputs": [
    {
     "data": {
      "text/plain": [
       "array([3.40119738, 3.58351894, 3.73766962, 3.87120101])"
      ]
     },
     "execution_count": 96,
     "metadata": {},
     "output_type": "execute_result"
    }
   ],
   "source": [
    "np.log(a)"
   ]
  },
  {
   "cell_type": "code",
   "execution_count": 97,
   "metadata": {},
   "outputs": [
    {
     "data": {
      "text/plain": [
       "array([[0, 1, 2],\n",
       "       [3, 4, 5],\n",
       "       [6, 7, 8]])"
      ]
     },
     "execution_count": 97,
     "metadata": {},
     "output_type": "execute_result"
    }
   ],
   "source": [
    "A"
   ]
  },
  {
   "cell_type": "code",
   "execution_count": 98,
   "metadata": {},
   "outputs": [
    {
     "name": "stderr",
     "output_type": "stream",
     "text": [
      "C:\\Users\\ABDULLAH\\anaconda3\\lib\\site-packages\\ipykernel_launcher.py:1: RuntimeWarning: divide by zero encountered in log\n",
      "  \"\"\"Entry point for launching an IPython kernel.\n"
     ]
    },
    {
     "data": {
      "text/plain": [
       "array([[      -inf, 0.        , 0.69314718],\n",
       "       [1.09861229, 1.38629436, 1.60943791],\n",
       "       [1.79175947, 1.94591015, 2.07944154]])"
      ]
     },
     "execution_count": 98,
     "metadata": {},
     "output_type": "execute_result"
    }
   ],
   "source": [
    "np.log(A)"
   ]
  },
  {
   "cell_type": "code",
   "execution_count": 99,
   "metadata": {},
   "outputs": [
    {
     "data": {
      "text/plain": [
       "array([[1., 1., 1.],\n",
       "       [1., 1., 1.],\n",
       "       [1., 1., 1.]])"
      ]
     },
     "execution_count": 99,
     "metadata": {},
     "output_type": "execute_result"
    }
   ],
   "source": [
    "B"
   ]
  },
  {
   "cell_type": "code",
   "execution_count": 100,
   "metadata": {},
   "outputs": [
    {
     "data": {
      "text/plain": [
       "array([[0.84147098, 0.84147098, 0.84147098],\n",
       "       [0.84147098, 0.84147098, 0.84147098],\n",
       "       [0.84147098, 0.84147098, 0.84147098]])"
      ]
     },
     "execution_count": 100,
     "metadata": {},
     "output_type": "execute_result"
    }
   ],
   "source": [
    "np.sin(B)"
   ]
  },
  {
   "cell_type": "markdown",
   "metadata": {},
   "source": [
    "# Aggregate Functions"
   ]
  },
  {
   "cell_type": "code",
   "execution_count": 101,
   "metadata": {},
   "outputs": [
    {
     "data": {
      "text/plain": [
       "array([30, 36, 42, 48])"
      ]
     },
     "execution_count": 101,
     "metadata": {},
     "output_type": "execute_result"
    }
   ],
   "source": [
    "a"
   ]
  },
  {
   "cell_type": "code",
   "execution_count": 102,
   "metadata": {},
   "outputs": [
    {
     "data": {
      "text/plain": [
       "156"
      ]
     },
     "execution_count": 102,
     "metadata": {},
     "output_type": "execute_result"
    }
   ],
   "source": [
    "a.sum()"
   ]
  },
  {
   "cell_type": "code",
   "execution_count": 103,
   "metadata": {},
   "outputs": [
    {
     "data": {
      "text/plain": [
       "30"
      ]
     },
     "execution_count": 103,
     "metadata": {},
     "output_type": "execute_result"
    }
   ],
   "source": [
    "a.min()"
   ]
  },
  {
   "cell_type": "code",
   "execution_count": 104,
   "metadata": {},
   "outputs": [
    {
     "data": {
      "text/plain": [
       "48"
      ]
     },
     "execution_count": 104,
     "metadata": {},
     "output_type": "execute_result"
    }
   ],
   "source": [
    "a.max()"
   ]
  },
  {
   "cell_type": "code",
   "execution_count": 105,
   "metadata": {},
   "outputs": [
    {
     "data": {
      "text/plain": [
       "6.708203932499369"
      ]
     },
     "execution_count": 105,
     "metadata": {},
     "output_type": "execute_result"
    }
   ],
   "source": [
    "a.std()"
   ]
  },
  {
   "cell_type": "code",
   "execution_count": 106,
   "metadata": {},
   "outputs": [
    {
     "data": {
      "text/plain": [
       "array([[0, 1, 2],\n",
       "       [3, 4, 5],\n",
       "       [6, 7, 8]])"
      ]
     },
     "execution_count": 106,
     "metadata": {},
     "output_type": "execute_result"
    }
   ],
   "source": [
    "A"
   ]
  },
  {
   "cell_type": "code",
   "execution_count": 107,
   "metadata": {},
   "outputs": [
    {
     "data": {
      "text/plain": [
       "36"
      ]
     },
     "execution_count": 107,
     "metadata": {},
     "output_type": "execute_result"
    }
   ],
   "source": [
    "A.sum()"
   ]
  },
  {
   "cell_type": "code",
   "execution_count": 108,
   "metadata": {},
   "outputs": [
    {
     "data": {
      "text/plain": [
       "0"
      ]
     },
     "execution_count": 108,
     "metadata": {},
     "output_type": "execute_result"
    }
   ],
   "source": [
    "A.min()"
   ]
  },
  {
   "cell_type": "code",
   "execution_count": 109,
   "metadata": {},
   "outputs": [
    {
     "data": {
      "text/plain": [
       "8"
      ]
     },
     "execution_count": 109,
     "metadata": {},
     "output_type": "execute_result"
    }
   ],
   "source": [
    "A.max()"
   ]
  },
  {
   "cell_type": "code",
   "execution_count": 110,
   "metadata": {},
   "outputs": [
    {
     "data": {
      "text/plain": [
       "2.581988897471611"
      ]
     },
     "execution_count": 110,
     "metadata": {},
     "output_type": "execute_result"
    }
   ],
   "source": [
    "A.std()"
   ]
  },
  {
   "cell_type": "markdown",
   "metadata": {},
   "source": [
    "# Indexing, Slicing, and Iterating"
   ]
  },
  {
   "cell_type": "markdown",
   "metadata": {},
   "source": [
    "# indexing"
   ]
  },
  {
   "cell_type": "code",
   "execution_count": 111,
   "metadata": {},
   "outputs": [
    {
     "data": {
      "text/plain": [
       "array([30, 36, 42, 48])"
      ]
     },
     "execution_count": 111,
     "metadata": {},
     "output_type": "execute_result"
    }
   ],
   "source": [
    "a"
   ]
  },
  {
   "cell_type": "code",
   "execution_count": 112,
   "metadata": {},
   "outputs": [
    {
     "data": {
      "text/plain": [
       "42"
      ]
     },
     "execution_count": 112,
     "metadata": {},
     "output_type": "execute_result"
    }
   ],
   "source": [
    "a[2]"
   ]
  },
  {
   "cell_type": "code",
   "execution_count": 113,
   "metadata": {},
   "outputs": [
    {
     "data": {
      "text/plain": [
       "48"
      ]
     },
     "execution_count": 113,
     "metadata": {},
     "output_type": "execute_result"
    }
   ],
   "source": [
    "a[-1]"
   ]
  },
  {
   "cell_type": "code",
   "execution_count": 114,
   "metadata": {},
   "outputs": [
    {
     "data": {
      "text/plain": [
       "array([[0, 1, 2],\n",
       "       [3, 4, 5],\n",
       "       [6, 7, 8]])"
      ]
     },
     "execution_count": 114,
     "metadata": {},
     "output_type": "execute_result"
    }
   ],
   "source": [
    "A"
   ]
  },
  {
   "cell_type": "code",
   "execution_count": 115,
   "metadata": {},
   "outputs": [
    {
     "data": {
      "text/plain": [
       "2"
      ]
     },
     "execution_count": 115,
     "metadata": {},
     "output_type": "execute_result"
    }
   ],
   "source": [
    "A[0,2]"
   ]
  },
  {
   "cell_type": "code",
   "execution_count": 116,
   "metadata": {},
   "outputs": [
    {
     "data": {
      "text/plain": [
       "7"
      ]
     },
     "execution_count": 116,
     "metadata": {},
     "output_type": "execute_result"
    }
   ],
   "source": [
    "A[2,1]"
   ]
  },
  {
   "cell_type": "code",
   "execution_count": 117,
   "metadata": {},
   "outputs": [
    {
     "data": {
      "text/plain": [
       "6"
      ]
     },
     "execution_count": 117,
     "metadata": {},
     "output_type": "execute_result"
    }
   ],
   "source": [
    "A[-1,-3]"
   ]
  },
  {
   "cell_type": "code",
   "execution_count": 118,
   "metadata": {},
   "outputs": [
    {
     "data": {
      "text/plain": [
       "8"
      ]
     },
     "execution_count": 118,
     "metadata": {},
     "output_type": "execute_result"
    }
   ],
   "source": [
    "A[-1,-1]"
   ]
  },
  {
   "cell_type": "code",
   "execution_count": 119,
   "metadata": {},
   "outputs": [
    {
     "data": {
      "text/plain": [
       "1"
      ]
     },
     "execution_count": 119,
     "metadata": {},
     "output_type": "execute_result"
    }
   ],
   "source": [
    "A[-3,-2]"
   ]
  },
  {
   "cell_type": "markdown",
   "metadata": {},
   "source": [
    "# Slicing"
   ]
  },
  {
   "cell_type": "code",
   "execution_count": 120,
   "metadata": {},
   "outputs": [],
   "source": [
    "c=np.random.randint(10,20,size=(3,5))"
   ]
  },
  {
   "cell_type": "code",
   "execution_count": 121,
   "metadata": {},
   "outputs": [
    {
     "data": {
      "text/plain": [
       "array([[15, 12, 10, 16, 13],\n",
       "       [10, 16, 12, 13, 13],\n",
       "       [12, 13, 19, 15, 12]])"
      ]
     },
     "execution_count": 121,
     "metadata": {},
     "output_type": "execute_result"
    }
   ],
   "source": [
    "c"
   ]
  },
  {
   "cell_type": "code",
   "execution_count": 122,
   "metadata": {},
   "outputs": [
    {
     "data": {
      "text/plain": [
       "array([[15, 12, 10, 16, 13],\n",
       "       [10, 16, 12, 13, 13]])"
      ]
     },
     "execution_count": 122,
     "metadata": {},
     "output_type": "execute_result"
    }
   ],
   "source": [
    "c[0:2]"
   ]
  },
  {
   "cell_type": "code",
   "execution_count": 123,
   "metadata": {},
   "outputs": [
    {
     "data": {
      "text/plain": [
       "array([15, 12])"
      ]
     },
     "execution_count": 123,
     "metadata": {},
     "output_type": "execute_result"
    }
   ],
   "source": [
    "c[0,:2]"
   ]
  },
  {
   "cell_type": "code",
   "execution_count": 124,
   "metadata": {},
   "outputs": [
    {
     "data": {
      "text/plain": [
       "array([[15, 12],\n",
       "       [10, 16],\n",
       "       [12, 13]])"
      ]
     },
     "execution_count": 124,
     "metadata": {},
     "output_type": "execute_result"
    }
   ],
   "source": [
    "c[:,:2]"
   ]
  },
  {
   "cell_type": "code",
   "execution_count": 125,
   "metadata": {},
   "outputs": [
    {
     "data": {
      "text/plain": [
       "array([[15]])"
      ]
     },
     "execution_count": 125,
     "metadata": {},
     "output_type": "execute_result"
    }
   ],
   "source": [
    "c[:1,:1]"
   ]
  },
  {
   "cell_type": "code",
   "execution_count": 126,
   "metadata": {},
   "outputs": [
    {
     "data": {
      "text/plain": [
       "array([[15, 12, 10],\n",
       "       [10, 16, 12]])"
      ]
     },
     "execution_count": 126,
     "metadata": {},
     "output_type": "execute_result"
    }
   ],
   "source": [
    "c[:2,:3]"
   ]
  },
  {
   "cell_type": "code",
   "execution_count": 127,
   "metadata": {},
   "outputs": [
    {
     "data": {
      "text/plain": [
       "array([[15, 12],\n",
       "       [10, 16],\n",
       "       [12, 13]])"
      ]
     },
     "execution_count": 127,
     "metadata": {},
     "output_type": "execute_result"
    }
   ],
   "source": [
    "c[:3,:2]"
   ]
  },
  {
   "cell_type": "code",
   "execution_count": 128,
   "metadata": {},
   "outputs": [
    {
     "data": {
      "text/plain": [
       "array([30, 36, 42, 48])"
      ]
     },
     "execution_count": 128,
     "metadata": {},
     "output_type": "execute_result"
    }
   ],
   "source": [
    "a"
   ]
  },
  {
   "cell_type": "code",
   "execution_count": 129,
   "metadata": {},
   "outputs": [
    {
     "data": {
      "text/plain": [
       "array([42, 48])"
      ]
     },
     "execution_count": 129,
     "metadata": {},
     "output_type": "execute_result"
    }
   ],
   "source": [
    "a[2:4]"
   ]
  },
  {
   "cell_type": "code",
   "execution_count": 130,
   "metadata": {},
   "outputs": [
    {
     "data": {
      "text/plain": [
       "array([30])"
      ]
     },
     "execution_count": 130,
     "metadata": {},
     "output_type": "execute_result"
    }
   ],
   "source": [
    "a[:1]"
   ]
  },
  {
   "cell_type": "code",
   "execution_count": 131,
   "metadata": {},
   "outputs": [
    {
     "data": {
      "text/plain": [
       "array([30, 36, 42])"
      ]
     },
     "execution_count": 131,
     "metadata": {},
     "output_type": "execute_result"
    }
   ],
   "source": [
    "a[:-1]"
   ]
  },
  {
   "cell_type": "code",
   "execution_count": 132,
   "metadata": {},
   "outputs": [
    {
     "data": {
      "text/plain": [
       "array([48])"
      ]
     },
     "execution_count": 132,
     "metadata": {},
     "output_type": "execute_result"
    }
   ],
   "source": [
    "a[-1:]"
   ]
  },
  {
   "cell_type": "code",
   "execution_count": 133,
   "metadata": {},
   "outputs": [
    {
     "data": {
      "text/plain": [
       "array([36])"
      ]
     },
     "execution_count": 133,
     "metadata": {},
     "output_type": "execute_result"
    }
   ],
   "source": [
    "a[1:3:2]"
   ]
  },
  {
   "cell_type": "code",
   "execution_count": 134,
   "metadata": {},
   "outputs": [
    {
     "data": {
      "text/plain": [
       "array([30, 42])"
      ]
     },
     "execution_count": 134,
     "metadata": {},
     "output_type": "execute_result"
    }
   ],
   "source": [
    "a[::2]"
   ]
  },
  {
   "cell_type": "code",
   "execution_count": 135,
   "metadata": {},
   "outputs": [
    {
     "data": {
      "text/plain": [
       "array([30, 48])"
      ]
     },
     "execution_count": 135,
     "metadata": {},
     "output_type": "execute_result"
    }
   ],
   "source": [
    "a[::3]"
   ]
  },
  {
   "cell_type": "markdown",
   "metadata": {},
   "source": [
    "# Iterating an Array"
   ]
  },
  {
   "cell_type": "code",
   "execution_count": 136,
   "metadata": {},
   "outputs": [
    {
     "name": "stdout",
     "output_type": "stream",
     "text": [
      "30\n",
      "36\n",
      "42\n",
      "48\n"
     ]
    }
   ],
   "source": [
    "for i in a:\n",
    "    print (i)"
   ]
  },
  {
   "cell_type": "code",
   "execution_count": 137,
   "metadata": {},
   "outputs": [
    {
     "name": "stdout",
     "output_type": "stream",
     "text": [
      "[0 1 2]\n",
      "[3 4 5]\n",
      "[6 7 8]\n"
     ]
    }
   ],
   "source": [
    "for i in A:\n",
    "    print(i)"
   ]
  },
  {
   "cell_type": "code",
   "execution_count": 138,
   "metadata": {},
   "outputs": [
    {
     "name": "stdout",
     "output_type": "stream",
     "text": [
      "0\n",
      "1\n",
      "2\n",
      "3\n",
      "4\n",
      "5\n",
      "6\n",
      "7\n",
      "8\n"
     ]
    }
   ],
   "source": [
    "for i in A.flat:\n",
    "    print(i)"
   ]
  },
  {
   "cell_type": "code",
   "execution_count": 139,
   "metadata": {},
   "outputs": [
    {
     "data": {
      "text/plain": [
       "array([[0, 1, 2],\n",
       "       [3, 4, 5],\n",
       "       [6, 7, 8]])"
      ]
     },
     "execution_count": 139,
     "metadata": {},
     "output_type": "execute_result"
    }
   ],
   "source": [
    "A"
   ]
  },
  {
   "cell_type": "code",
   "execution_count": 140,
   "metadata": {
    "scrolled": true
   },
   "outputs": [
    {
     "data": {
      "text/plain": [
       "array([3., 4., 5.])"
      ]
     },
     "execution_count": 140,
     "metadata": {},
     "output_type": "execute_result"
    }
   ],
   "source": [
    "np.apply_along_axis(np.mean,axis=0,arr=A)"
   ]
  },
  {
   "cell_type": "code",
   "execution_count": 141,
   "metadata": {},
   "outputs": [
    {
     "data": {
      "text/plain": [
       "array([ 3, 12, 21])"
      ]
     },
     "execution_count": 141,
     "metadata": {},
     "output_type": "execute_result"
    }
   ],
   "source": [
    "np.apply_along_axis(np.sum,axis=1,arr=A)"
   ]
  },
  {
   "cell_type": "code",
   "execution_count": 142,
   "metadata": {},
   "outputs": [],
   "source": [
    "def foo(x):\n",
    "    return x/2"
   ]
  },
  {
   "cell_type": "code",
   "execution_count": 143,
   "metadata": {},
   "outputs": [
    {
     "data": {
      "text/plain": [
       "array([[0. , 0.5, 1. ],\n",
       "       [1.5, 2. , 2.5],\n",
       "       [3. , 3.5, 4. ]])"
      ]
     },
     "execution_count": 143,
     "metadata": {},
     "output_type": "execute_result"
    }
   ],
   "source": [
    "np.apply_along_axis(foo,axis=0,arr=A)"
   ]
  },
  {
   "cell_type": "code",
   "execution_count": 144,
   "metadata": {},
   "outputs": [
    {
     "data": {
      "text/plain": [
       "array([[0. , 0.5, 1. ],\n",
       "       [1.5, 2. , 2.5],\n",
       "       [3. , 3.5, 4. ]])"
      ]
     },
     "execution_count": 144,
     "metadata": {},
     "output_type": "execute_result"
    }
   ],
   "source": [
    "np.apply_along_axis(foo,axis=1,arr=A)"
   ]
  },
  {
   "cell_type": "markdown",
   "metadata": {},
   "source": [
    " # Conditions and Boolean Arrays"
   ]
  },
  {
   "cell_type": "code",
   "execution_count": 145,
   "metadata": {},
   "outputs": [],
   "source": [
    "A=np.random.random((4,4))"
   ]
  },
  {
   "cell_type": "code",
   "execution_count": 146,
   "metadata": {},
   "outputs": [
    {
     "data": {
      "text/plain": [
       "array([[0.01988365, 0.73453816, 0.57270646, 0.37920389],\n",
       "       [0.38758971, 0.34008442, 0.69228008, 0.39720243],\n",
       "       [0.48733348, 0.00438886, 0.20949545, 0.51009305],\n",
       "       [0.7717864 , 0.07068849, 0.06660227, 0.49589171]])"
      ]
     },
     "execution_count": 146,
     "metadata": {},
     "output_type": "execute_result"
    }
   ],
   "source": [
    "A"
   ]
  },
  {
   "cell_type": "code",
   "execution_count": 147,
   "metadata": {},
   "outputs": [
    {
     "data": {
      "text/plain": [
       "array([[ True, False, False,  True],\n",
       "       [ True,  True, False,  True],\n",
       "       [ True,  True,  True, False],\n",
       "       [False,  True,  True,  True]])"
      ]
     },
     "execution_count": 147,
     "metadata": {},
     "output_type": "execute_result"
    }
   ],
   "source": [
    "A<0.5"
   ]
  },
  {
   "cell_type": "code",
   "execution_count": 148,
   "metadata": {},
   "outputs": [
    {
     "ename": "IndexError",
     "evalue": "only integers, slices (`:`), ellipsis (`...`), numpy.newaxis (`None`) and integer or boolean arrays are valid indices",
     "output_type": "error",
     "traceback": [
      "\u001b[1;31m---------------------------------------------------------------------------\u001b[0m",
      "\u001b[1;31mIndexError\u001b[0m                                Traceback (most recent call last)",
      "\u001b[1;32m<ipython-input-148-d4e5b12752de>\u001b[0m in \u001b[0;36m<module>\u001b[1;34m\u001b[0m\n\u001b[1;32m----> 1\u001b[1;33m \u001b[0mA\u001b[0m\u001b[1;33m[\u001b[0m\u001b[1;36m0.5\u001b[0m\u001b[1;33m]\u001b[0m\u001b[1;33m\u001b[0m\u001b[1;33m\u001b[0m\u001b[0m\n\u001b[0m",
      "\u001b[1;31mIndexError\u001b[0m: only integers, slices (`:`), ellipsis (`...`), numpy.newaxis (`None`) and integer or boolean arrays are valid indices"
     ]
    }
   ],
   "source": [
    "A[0.5]"
   ]
  },
  {
   "cell_type": "code",
   "execution_count": 149,
   "metadata": {},
   "outputs": [
    {
     "data": {
      "text/plain": [
       "array([0.01988365, 0.37920389, 0.38758971, 0.34008442, 0.39720243,\n",
       "       0.48733348, 0.00438886, 0.20949545, 0.07068849, 0.06660227,\n",
       "       0.49589171])"
      ]
     },
     "execution_count": 149,
     "metadata": {},
     "output_type": "execute_result"
    }
   ],
   "source": [
    "A[A<0.5]"
   ]
  },
  {
   "cell_type": "markdown",
   "metadata": {},
   "source": [
    "# Shape Manipulation"
   ]
  },
  {
   "cell_type": "code",
   "execution_count": 150,
   "metadata": {},
   "outputs": [],
   "source": [
    "c=np.random.rand(18)"
   ]
  },
  {
   "cell_type": "code",
   "execution_count": 151,
   "metadata": {},
   "outputs": [
    {
     "data": {
      "text/plain": [
       "array([0.46581337, 0.09659364, 0.09285092, 0.98612979, 0.03360329,\n",
       "       0.89974511, 0.82100794, 0.18906268, 0.72532365, 0.11445736,\n",
       "       0.65149555, 0.65445485, 0.97730924, 0.26203449, 0.07516028,\n",
       "       0.40917752, 0.16216471, 0.86383271])"
      ]
     },
     "execution_count": 151,
     "metadata": {},
     "output_type": "execute_result"
    }
   ],
   "source": [
    "c"
   ]
  },
  {
   "cell_type": "code",
   "execution_count": 152,
   "metadata": {},
   "outputs": [],
   "source": [
    "c=c.reshape(2,9)"
   ]
  },
  {
   "cell_type": "code",
   "execution_count": 153,
   "metadata": {},
   "outputs": [
    {
     "data": {
      "text/plain": [
       "array([[0.46581337, 0.09659364, 0.09285092, 0.98612979, 0.03360329,\n",
       "        0.89974511, 0.82100794, 0.18906268, 0.72532365],\n",
       "       [0.11445736, 0.65149555, 0.65445485, 0.97730924, 0.26203449,\n",
       "        0.07516028, 0.40917752, 0.16216471, 0.86383271]])"
      ]
     },
     "execution_count": 153,
     "metadata": {},
     "output_type": "execute_result"
    }
   ],
   "source": [
    "c"
   ]
  },
  {
   "cell_type": "code",
   "execution_count": 154,
   "metadata": {},
   "outputs": [
    {
     "data": {
      "text/plain": [
       "(2, 9)"
      ]
     },
     "execution_count": 154,
     "metadata": {},
     "output_type": "execute_result"
    }
   ],
   "source": [
    "c.shape"
   ]
  },
  {
   "cell_type": "code",
   "execution_count": 155,
   "metadata": {},
   "outputs": [],
   "source": [
    "d=np.random.random(15)"
   ]
  },
  {
   "cell_type": "code",
   "execution_count": 156,
   "metadata": {},
   "outputs": [
    {
     "data": {
      "text/plain": [
       "(15,)"
      ]
     },
     "execution_count": 156,
     "metadata": {},
     "output_type": "execute_result"
    }
   ],
   "source": [
    "d.shape"
   ]
  },
  {
   "cell_type": "code",
   "execution_count": 157,
   "metadata": {},
   "outputs": [
    {
     "data": {
      "text/plain": [
       "array([0.90898153, 0.97535655, 0.72817673, 0.92244488, 0.75765579,\n",
       "       0.0428665 , 0.04407088, 0.88797385, 0.86925465, 0.53098597,\n",
       "       0.26354144, 0.08750676, 0.77826928, 0.58515736, 0.29702012])"
      ]
     },
     "execution_count": 157,
     "metadata": {},
     "output_type": "execute_result"
    }
   ],
   "source": [
    "d"
   ]
  },
  {
   "cell_type": "code",
   "execution_count": 158,
   "metadata": {},
   "outputs": [],
   "source": [
    "d=d.reshape(5,3)"
   ]
  },
  {
   "cell_type": "code",
   "execution_count": 159,
   "metadata": {},
   "outputs": [
    {
     "data": {
      "text/plain": [
       "(5, 3)"
      ]
     },
     "execution_count": 159,
     "metadata": {},
     "output_type": "execute_result"
    }
   ],
   "source": [
    "d.shape"
   ]
  },
  {
   "cell_type": "code",
   "execution_count": 160,
   "metadata": {},
   "outputs": [],
   "source": [
    "d.shape=(3,5)"
   ]
  },
  {
   "cell_type": "code",
   "execution_count": 161,
   "metadata": {},
   "outputs": [
    {
     "data": {
      "text/plain": [
       "array([[0.90898153, 0.97535655, 0.72817673, 0.92244488, 0.75765579],\n",
       "       [0.0428665 , 0.04407088, 0.88797385, 0.86925465, 0.53098597],\n",
       "       [0.26354144, 0.08750676, 0.77826928, 0.58515736, 0.29702012]])"
      ]
     },
     "execution_count": 161,
     "metadata": {},
     "output_type": "execute_result"
    }
   ],
   "source": [
    "d"
   ]
  },
  {
   "cell_type": "code",
   "execution_count": 162,
   "metadata": {},
   "outputs": [
    {
     "data": {
      "text/plain": [
       "(3, 5)"
      ]
     },
     "execution_count": 162,
     "metadata": {},
     "output_type": "execute_result"
    }
   ],
   "source": [
    "d.shape"
   ]
  },
  {
   "cell_type": "markdown",
   "metadata": {},
   "source": [
    "# ravel() function convert two dimensional array into one dimension"
   ]
  },
  {
   "cell_type": "code",
   "execution_count": 163,
   "metadata": {},
   "outputs": [],
   "source": [
    "d=d.ravel()"
   ]
  },
  {
   "cell_type": "code",
   "execution_count": 164,
   "metadata": {},
   "outputs": [
    {
     "data": {
      "text/plain": [
       "array([0.90898153, 0.97535655, 0.72817673, 0.92244488, 0.75765579,\n",
       "       0.0428665 , 0.04407088, 0.88797385, 0.86925465, 0.53098597,\n",
       "       0.26354144, 0.08750676, 0.77826928, 0.58515736, 0.29702012])"
      ]
     },
     "execution_count": 164,
     "metadata": {},
     "output_type": "execute_result"
    }
   ],
   "source": [
    "d"
   ]
  },
  {
   "cell_type": "code",
   "execution_count": 165,
   "metadata": {},
   "outputs": [
    {
     "data": {
      "text/plain": [
       "(15,)"
      ]
     },
     "execution_count": 165,
     "metadata": {},
     "output_type": "execute_result"
    }
   ],
   "source": [
    "d.shape"
   ]
  },
  {
   "cell_type": "code",
   "execution_count": 166,
   "metadata": {},
   "outputs": [
    {
     "data": {
      "text/plain": [
       "array([[0.46581337, 0.09659364, 0.09285092, 0.98612979, 0.03360329,\n",
       "        0.89974511, 0.82100794, 0.18906268, 0.72532365],\n",
       "       [0.11445736, 0.65149555, 0.65445485, 0.97730924, 0.26203449,\n",
       "        0.07516028, 0.40917752, 0.16216471, 0.86383271]])"
      ]
     },
     "execution_count": 166,
     "metadata": {},
     "output_type": "execute_result"
    }
   ],
   "source": [
    "c"
   ]
  },
  {
   "cell_type": "code",
   "execution_count": 167,
   "metadata": {},
   "outputs": [
    {
     "data": {
      "text/plain": [
       "(2, 9)"
      ]
     },
     "execution_count": 167,
     "metadata": {},
     "output_type": "execute_result"
    }
   ],
   "source": [
    "c.shape"
   ]
  },
  {
   "cell_type": "code",
   "execution_count": 168,
   "metadata": {},
   "outputs": [],
   "source": [
    "c=c.ravel()"
   ]
  },
  {
   "cell_type": "code",
   "execution_count": 169,
   "metadata": {},
   "outputs": [
    {
     "data": {
      "text/plain": [
       "array([0.46581337, 0.09659364, 0.09285092, 0.98612979, 0.03360329,\n",
       "       0.89974511, 0.82100794, 0.18906268, 0.72532365, 0.11445736,\n",
       "       0.65149555, 0.65445485, 0.97730924, 0.26203449, 0.07516028,\n",
       "       0.40917752, 0.16216471, 0.86383271])"
      ]
     },
     "execution_count": 169,
     "metadata": {},
     "output_type": "execute_result"
    }
   ],
   "source": [
    "c"
   ]
  },
  {
   "cell_type": "code",
   "execution_count": 170,
   "metadata": {},
   "outputs": [
    {
     "data": {
      "text/plain": [
       "(18,)"
      ]
     },
     "execution_count": 170,
     "metadata": {},
     "output_type": "execute_result"
    }
   ],
   "source": [
    "c.shape"
   ]
  },
  {
   "cell_type": "code",
   "execution_count": 171,
   "metadata": {},
   "outputs": [
    {
     "data": {
      "text/plain": [
       "array([30, 36, 42, 48])"
      ]
     },
     "execution_count": 171,
     "metadata": {},
     "output_type": "execute_result"
    }
   ],
   "source": [
    "a"
   ]
  },
  {
   "cell_type": "code",
   "execution_count": 172,
   "metadata": {},
   "outputs": [
    {
     "data": {
      "text/plain": [
       "array([30, 36, 42, 48])"
      ]
     },
     "execution_count": 172,
     "metadata": {},
     "output_type": "execute_result"
    }
   ],
   "source": [
    "a.transpose()"
   ]
  },
  {
   "cell_type": "code",
   "execution_count": 173,
   "metadata": {},
   "outputs": [
    {
     "data": {
      "text/plain": [
       "array([0.46581337, 0.09659364, 0.09285092, 0.98612979, 0.03360329,\n",
       "       0.89974511, 0.82100794, 0.18906268, 0.72532365, 0.11445736,\n",
       "       0.65149555, 0.65445485, 0.97730924, 0.26203449, 0.07516028,\n",
       "       0.40917752, 0.16216471, 0.86383271])"
      ]
     },
     "execution_count": 173,
     "metadata": {},
     "output_type": "execute_result"
    }
   ],
   "source": [
    "c"
   ]
  },
  {
   "cell_type": "code",
   "execution_count": 174,
   "metadata": {},
   "outputs": [
    {
     "data": {
      "text/plain": [
       "array([0.46581337, 0.09659364, 0.09285092, 0.98612979, 0.03360329,\n",
       "       0.89974511, 0.82100794, 0.18906268, 0.72532365, 0.11445736,\n",
       "       0.65149555, 0.65445485, 0.97730924, 0.26203449, 0.07516028,\n",
       "       0.40917752, 0.16216471, 0.86383271])"
      ]
     },
     "execution_count": 174,
     "metadata": {},
     "output_type": "execute_result"
    }
   ],
   "source": [
    "c.transpose()"
   ]
  },
  {
   "cell_type": "code",
   "execution_count": 175,
   "metadata": {},
   "outputs": [
    {
     "data": {
      "text/plain": [
       "array([[0.01988365, 0.73453816, 0.57270646, 0.37920389],\n",
       "       [0.38758971, 0.34008442, 0.69228008, 0.39720243],\n",
       "       [0.48733348, 0.00438886, 0.20949545, 0.51009305],\n",
       "       [0.7717864 , 0.07068849, 0.06660227, 0.49589171]])"
      ]
     },
     "execution_count": 175,
     "metadata": {},
     "output_type": "execute_result"
    }
   ],
   "source": [
    "A"
   ]
  },
  {
   "cell_type": "code",
   "execution_count": 176,
   "metadata": {},
   "outputs": [
    {
     "data": {
      "text/plain": [
       "array([[0.01988365, 0.38758971, 0.48733348, 0.7717864 ],\n",
       "       [0.73453816, 0.34008442, 0.00438886, 0.07068849],\n",
       "       [0.57270646, 0.69228008, 0.20949545, 0.06660227],\n",
       "       [0.37920389, 0.39720243, 0.51009305, 0.49589171]])"
      ]
     },
     "execution_count": 176,
     "metadata": {},
     "output_type": "execute_result"
    }
   ],
   "source": [
    "A.transpose()"
   ]
  },
  {
   "cell_type": "code",
   "execution_count": 177,
   "metadata": {},
   "outputs": [
    {
     "data": {
      "text/plain": [
       "(4, 4)"
      ]
     },
     "execution_count": 177,
     "metadata": {},
     "output_type": "execute_result"
    }
   ],
   "source": [
    "A.shape"
   ]
  },
  {
   "cell_type": "markdown",
   "metadata": {},
   "source": [
    "# Array Manipulation"
   ]
  },
  {
   "cell_type": "markdown",
   "metadata": {},
   "source": [
    "# Joining Arrays"
   ]
  },
  {
   "cell_type": "code",
   "execution_count": 178,
   "metadata": {},
   "outputs": [],
   "source": [
    "a_1=np.ones((3,3))"
   ]
  },
  {
   "cell_type": "code",
   "execution_count": 179,
   "metadata": {},
   "outputs": [
    {
     "data": {
      "text/plain": [
       "array([[1., 1., 1.],\n",
       "       [1., 1., 1.],\n",
       "       [1., 1., 1.]])"
      ]
     },
     "execution_count": 179,
     "metadata": {},
     "output_type": "execute_result"
    }
   ],
   "source": [
    "a_1"
   ]
  },
  {
   "cell_type": "code",
   "execution_count": 180,
   "metadata": {},
   "outputs": [],
   "source": [
    "a_0=np.zeros((3,3))"
   ]
  },
  {
   "cell_type": "code",
   "execution_count": 181,
   "metadata": {},
   "outputs": [
    {
     "data": {
      "text/plain": [
       "array([[0., 0., 0.],\n",
       "       [0., 0., 0.],\n",
       "       [0., 0., 0.]])"
      ]
     },
     "execution_count": 181,
     "metadata": {},
     "output_type": "execute_result"
    }
   ],
   "source": [
    "a_0"
   ]
  },
  {
   "cell_type": "code",
   "execution_count": 182,
   "metadata": {},
   "outputs": [
    {
     "data": {
      "text/plain": [
       "array([[1., 1., 1.],\n",
       "       [1., 1., 1.],\n",
       "       [1., 1., 1.],\n",
       "       [0., 0., 0.],\n",
       "       [0., 0., 0.],\n",
       "       [0., 0., 0.]])"
      ]
     },
     "execution_count": 182,
     "metadata": {},
     "output_type": "execute_result"
    }
   ],
   "source": [
    "np.vstack((a_1,a_0))"
   ]
  },
  {
   "cell_type": "code",
   "execution_count": 183,
   "metadata": {},
   "outputs": [
    {
     "data": {
      "text/plain": [
       "array([[1., 1., 1., 0., 0., 0.],\n",
       "       [1., 1., 1., 0., 0., 0.],\n",
       "       [1., 1., 1., 0., 0., 0.]])"
      ]
     },
     "execution_count": 183,
     "metadata": {},
     "output_type": "execute_result"
    }
   ],
   "source": [
    "np.hstack((a_1,a_0))"
   ]
  },
  {
   "cell_type": "code",
   "execution_count": 184,
   "metadata": {},
   "outputs": [
    {
     "data": {
      "text/plain": [
       "array([30, 36, 42, 48])"
      ]
     },
     "execution_count": 184,
     "metadata": {},
     "output_type": "execute_result"
    }
   ],
   "source": [
    "a"
   ]
  },
  {
   "cell_type": "code",
   "execution_count": 185,
   "metadata": {},
   "outputs": [
    {
     "data": {
      "text/plain": [
       "array([4, 5, 6, 7])"
      ]
     },
     "execution_count": 185,
     "metadata": {},
     "output_type": "execute_result"
    }
   ],
   "source": [
    "b"
   ]
  },
  {
   "cell_type": "code",
   "execution_count": 186,
   "metadata": {},
   "outputs": [],
   "source": [
    "c=np.array([0,9,1,20])"
   ]
  },
  {
   "cell_type": "code",
   "execution_count": 187,
   "metadata": {},
   "outputs": [
    {
     "data": {
      "text/plain": [
       "array([ 0,  9,  1, 20])"
      ]
     },
     "execution_count": 187,
     "metadata": {},
     "output_type": "execute_result"
    }
   ],
   "source": [
    "c"
   ]
  },
  {
   "cell_type": "code",
   "execution_count": 188,
   "metadata": {},
   "outputs": [
    {
     "data": {
      "text/plain": [
       "array([[30,  4,  0],\n",
       "       [36,  5,  9],\n",
       "       [42,  6,  1],\n",
       "       [48,  7, 20]])"
      ]
     },
     "execution_count": 188,
     "metadata": {},
     "output_type": "execute_result"
    }
   ],
   "source": [
    "np.column_stack((a,b,c))"
   ]
  },
  {
   "cell_type": "code",
   "execution_count": 189,
   "metadata": {},
   "outputs": [
    {
     "data": {
      "text/plain": [
       "array([[ 0, 30,  4],\n",
       "       [ 9, 36,  5],\n",
       "       [ 1, 42,  6],\n",
       "       [20, 48,  7]])"
      ]
     },
     "execution_count": 189,
     "metadata": {},
     "output_type": "execute_result"
    }
   ],
   "source": [
    "np.column_stack((c,a,b))"
   ]
  },
  {
   "cell_type": "code",
   "execution_count": 190,
   "metadata": {},
   "outputs": [
    {
     "data": {
      "text/plain": [
       "array([[30, 36, 42, 48],\n",
       "       [ 4,  5,  6,  7],\n",
       "       [ 0,  9,  1, 20]])"
      ]
     },
     "execution_count": 190,
     "metadata": {},
     "output_type": "execute_result"
    }
   ],
   "source": [
    "np.row_stack((a,b,c))"
   ]
  },
  {
   "cell_type": "code",
   "execution_count": 191,
   "metadata": {},
   "outputs": [
    {
     "data": {
      "text/plain": [
       "array([[0.01988365, 0.73453816, 0.57270646, 0.37920389],\n",
       "       [0.38758971, 0.34008442, 0.69228008, 0.39720243],\n",
       "       [0.48733348, 0.00438886, 0.20949545, 0.51009305],\n",
       "       [0.7717864 , 0.07068849, 0.06660227, 0.49589171]])"
      ]
     },
     "execution_count": 191,
     "metadata": {},
     "output_type": "execute_result"
    }
   ],
   "source": [
    "A"
   ]
  },
  {
   "cell_type": "code",
   "execution_count": 192,
   "metadata": {},
   "outputs": [
    {
     "data": {
      "text/plain": [
       "array([[1., 1., 1.],\n",
       "       [1., 1., 1.],\n",
       "       [1., 1., 1.]])"
      ]
     },
     "execution_count": 192,
     "metadata": {},
     "output_type": "execute_result"
    }
   ],
   "source": [
    "B"
   ]
  },
  {
   "cell_type": "code",
   "execution_count": 193,
   "metadata": {},
   "outputs": [
    {
     "data": {
      "text/plain": [
       "[array([[1.],\n",
       "        [1.],\n",
       "        [1.]]),\n",
       " array([[1.],\n",
       "        [1.],\n",
       "        [1.]]),\n",
       " array([[1.],\n",
       "        [1.],\n",
       "        [1.]])]"
      ]
     },
     "execution_count": 193,
     "metadata": {},
     "output_type": "execute_result"
    }
   ],
   "source": [
    "np.hsplit(B,3)"
   ]
  },
  {
   "cell_type": "code",
   "execution_count": 194,
   "metadata": {},
   "outputs": [
    {
     "data": {
      "text/plain": [
       "array([ 0,  9,  1, 20])"
      ]
     },
     "execution_count": 194,
     "metadata": {},
     "output_type": "execute_result"
    }
   ],
   "source": [
    "c"
   ]
  },
  {
   "cell_type": "code",
   "execution_count": 195,
   "metadata": {},
   "outputs": [
    {
     "data": {
      "text/plain": [
       "[array([0]), array([9]), array([1]), array([20])]"
      ]
     },
     "execution_count": 195,
     "metadata": {},
     "output_type": "execute_result"
    }
   ],
   "source": [
    "np.hsplit(c,4)"
   ]
  },
  {
   "cell_type": "code",
   "execution_count": 196,
   "metadata": {},
   "outputs": [
    {
     "data": {
      "text/plain": [
       "array([[1., 1., 1.],\n",
       "       [1., 1., 1.],\n",
       "       [1., 1., 1.]])"
      ]
     },
     "execution_count": 196,
     "metadata": {},
     "output_type": "execute_result"
    }
   ],
   "source": [
    "B"
   ]
  },
  {
   "cell_type": "code",
   "execution_count": 197,
   "metadata": {},
   "outputs": [
    {
     "data": {
      "text/plain": [
       "[array([[1., 1., 1.]]), array([[1., 1., 1.]]), array([[1., 1., 1.]])]"
      ]
     },
     "execution_count": 197,
     "metadata": {},
     "output_type": "execute_result"
    }
   ],
   "source": [
    "np.vsplit(B,3)"
   ]
  },
  {
   "cell_type": "code",
   "execution_count": 198,
   "metadata": {},
   "outputs": [],
   "source": [
    "A=np.arange(16).reshape(8,2)"
   ]
  },
  {
   "cell_type": "code",
   "execution_count": 199,
   "metadata": {},
   "outputs": [
    {
     "data": {
      "text/plain": [
       "array([[ 0,  1],\n",
       "       [ 2,  3],\n",
       "       [ 4,  5],\n",
       "       [ 6,  7],\n",
       "       [ 8,  9],\n",
       "       [10, 11],\n",
       "       [12, 13],\n",
       "       [14, 15]])"
      ]
     },
     "execution_count": 199,
     "metadata": {},
     "output_type": "execute_result"
    }
   ],
   "source": [
    "A"
   ]
  },
  {
   "cell_type": "code",
   "execution_count": 200,
   "metadata": {},
   "outputs": [
    {
     "data": {
      "text/plain": [
       "[array([[0, 1],\n",
       "        [2, 3]]),\n",
       " array([[4, 5],\n",
       "        [6, 7]]),\n",
       " array([[ 8,  9],\n",
       "        [10, 11]]),\n",
       " array([[12, 13],\n",
       "        [14, 15]])]"
      ]
     },
     "execution_count": 200,
     "metadata": {},
     "output_type": "execute_result"
    }
   ],
   "source": [
    "np.vsplit(A,4)"
   ]
  },
  {
   "cell_type": "code",
   "execution_count": 201,
   "metadata": {},
   "outputs": [
    {
     "data": {
      "text/plain": [
       "[array([[ 0],\n",
       "        [ 2],\n",
       "        [ 4],\n",
       "        [ 6],\n",
       "        [ 8],\n",
       "        [10],\n",
       "        [12],\n",
       "        [14]]),\n",
       " array([[ 1],\n",
       "        [ 3],\n",
       "        [ 5],\n",
       "        [ 7],\n",
       "        [ 9],\n",
       "        [11],\n",
       "        [13],\n",
       "        [15]])]"
      ]
     },
     "execution_count": 201,
     "metadata": {},
     "output_type": "execute_result"
    }
   ],
   "source": [
    "np.hsplit(A,2)"
   ]
  },
  {
   "cell_type": "code",
   "execution_count": 202,
   "metadata": {},
   "outputs": [],
   "source": [
    "A.shape=(4,4)"
   ]
  },
  {
   "cell_type": "code",
   "execution_count": 203,
   "metadata": {},
   "outputs": [
    {
     "data": {
      "text/plain": [
       "array([[ 0,  1,  2,  3],\n",
       "       [ 4,  5,  6,  7],\n",
       "       [ 8,  9, 10, 11],\n",
       "       [12, 13, 14, 15]])"
      ]
     },
     "execution_count": 203,
     "metadata": {},
     "output_type": "execute_result"
    }
   ],
   "source": [
    "A"
   ]
  },
  {
   "cell_type": "code",
   "execution_count": 204,
   "metadata": {},
   "outputs": [],
   "source": [
    "[a1,a2,a3,a4]=np.split(A,4)"
   ]
  },
  {
   "cell_type": "code",
   "execution_count": 205,
   "metadata": {},
   "outputs": [
    {
     "data": {
      "text/plain": [
       "array([[0, 1, 2, 3]])"
      ]
     },
     "execution_count": 205,
     "metadata": {},
     "output_type": "execute_result"
    }
   ],
   "source": [
    "a1"
   ]
  },
  {
   "cell_type": "code",
   "execution_count": 206,
   "metadata": {},
   "outputs": [
    {
     "data": {
      "text/plain": [
       "array([[4, 5, 6, 7]])"
      ]
     },
     "execution_count": 206,
     "metadata": {},
     "output_type": "execute_result"
    }
   ],
   "source": [
    "a2"
   ]
  },
  {
   "cell_type": "code",
   "execution_count": 207,
   "metadata": {},
   "outputs": [
    {
     "data": {
      "text/plain": [
       "array([[ 8,  9, 10, 11]])"
      ]
     },
     "execution_count": 207,
     "metadata": {},
     "output_type": "execute_result"
    }
   ],
   "source": [
    "a3"
   ]
  },
  {
   "cell_type": "code",
   "execution_count": 208,
   "metadata": {},
   "outputs": [
    {
     "data": {
      "text/plain": [
       "array([[12, 13, 14, 15]])"
      ]
     },
     "execution_count": 208,
     "metadata": {},
     "output_type": "execute_result"
    }
   ],
   "source": [
    "a4"
   ]
  },
  {
   "cell_type": "code",
   "execution_count": 209,
   "metadata": {},
   "outputs": [],
   "source": [
    "[b1,b2,b3,b4]=np.split(A,4,axis=1)"
   ]
  },
  {
   "cell_type": "code",
   "execution_count": 210,
   "metadata": {},
   "outputs": [
    {
     "data": {
      "text/plain": [
       "array([[ 0],\n",
       "       [ 4],\n",
       "       [ 8],\n",
       "       [12]])"
      ]
     },
     "execution_count": 210,
     "metadata": {},
     "output_type": "execute_result"
    }
   ],
   "source": [
    "b1"
   ]
  },
  {
   "cell_type": "code",
   "execution_count": 211,
   "metadata": {},
   "outputs": [
    {
     "data": {
      "text/plain": [
       "array([[ 1],\n",
       "       [ 5],\n",
       "       [ 9],\n",
       "       [13]])"
      ]
     },
     "execution_count": 211,
     "metadata": {},
     "output_type": "execute_result"
    }
   ],
   "source": [
    "b2"
   ]
  },
  {
   "cell_type": "code",
   "execution_count": 212,
   "metadata": {},
   "outputs": [
    {
     "data": {
      "text/plain": [
       "array([[ 2],\n",
       "       [ 6],\n",
       "       [10],\n",
       "       [14]])"
      ]
     },
     "execution_count": 212,
     "metadata": {},
     "output_type": "execute_result"
    }
   ],
   "source": [
    "b3"
   ]
  },
  {
   "cell_type": "code",
   "execution_count": 213,
   "metadata": {},
   "outputs": [
    {
     "data": {
      "text/plain": [
       "array([[ 3],\n",
       "       [ 7],\n",
       "       [11],\n",
       "       [15]])"
      ]
     },
     "execution_count": 213,
     "metadata": {},
     "output_type": "execute_result"
    }
   ],
   "source": [
    "b4"
   ]
  },
  {
   "cell_type": "markdown",
   "metadata": {},
   "source": [
    "# Copies or Views of Objects"
   ]
  },
  {
   "cell_type": "code",
   "execution_count": 214,
   "metadata": {},
   "outputs": [
    {
     "data": {
      "text/plain": [
       "array([30, 36, 42, 48])"
      ]
     },
     "execution_count": 214,
     "metadata": {},
     "output_type": "execute_result"
    }
   ],
   "source": [
    "a"
   ]
  },
  {
   "cell_type": "code",
   "execution_count": 215,
   "metadata": {},
   "outputs": [],
   "source": [
    "b=a"
   ]
  },
  {
   "cell_type": "code",
   "execution_count": 216,
   "metadata": {},
   "outputs": [
    {
     "data": {
      "text/plain": [
       "array([30, 36, 42, 48])"
      ]
     },
     "execution_count": 216,
     "metadata": {},
     "output_type": "execute_result"
    }
   ],
   "source": [
    "b"
   ]
  },
  {
   "cell_type": "code",
   "execution_count": 217,
   "metadata": {},
   "outputs": [],
   "source": [
    "a[2]=0"
   ]
  },
  {
   "cell_type": "code",
   "execution_count": 218,
   "metadata": {},
   "outputs": [
    {
     "data": {
      "text/plain": [
       "array([30, 36,  0, 48])"
      ]
     },
     "execution_count": 218,
     "metadata": {},
     "output_type": "execute_result"
    }
   ],
   "source": [
    "# here b  change after changing the value of a .so it is not a copy\n",
    "b"
   ]
  },
  {
   "cell_type": "code",
   "execution_count": 219,
   "metadata": {},
   "outputs": [],
   "source": [
    "c=a[0:2]"
   ]
  },
  {
   "cell_type": "code",
   "execution_count": 220,
   "metadata": {},
   "outputs": [
    {
     "data": {
      "text/plain": [
       "array([30, 36])"
      ]
     },
     "execution_count": 220,
     "metadata": {},
     "output_type": "execute_result"
    }
   ],
   "source": [
    "c"
   ]
  },
  {
   "cell_type": "code",
   "execution_count": 223,
   "metadata": {},
   "outputs": [],
   "source": [
    "a[0]=0"
   ]
  },
  {
   "cell_type": "code",
   "execution_count": 224,
   "metadata": {},
   "outputs": [
    {
     "data": {
      "text/plain": [
       "array([ 0, 36])"
      ]
     },
     "execution_count": 224,
     "metadata": {},
     "output_type": "execute_result"
    }
   ],
   "source": [
    "c"
   ]
  },
  {
   "cell_type": "code",
   "execution_count": 225,
   "metadata": {},
   "outputs": [
    {
     "data": {
      "text/plain": [
       "array([ 0, 36,  0, 48])"
      ]
     },
     "execution_count": 225,
     "metadata": {},
     "output_type": "execute_result"
    }
   ],
   "source": [
    "a"
   ]
  },
  {
   "cell_type": "code",
   "execution_count": 226,
   "metadata": {},
   "outputs": [
    {
     "data": {
      "text/plain": [
       "array([ 0, 36,  0, 48])"
      ]
     },
     "execution_count": 226,
     "metadata": {},
     "output_type": "execute_result"
    }
   ],
   "source": [
    "b"
   ]
  },
  {
   "cell_type": "code",
   "execution_count": 227,
   "metadata": {},
   "outputs": [
    {
     "data": {
      "text/plain": [
       "array([ 0, 36])"
      ]
     },
     "execution_count": 227,
     "metadata": {},
     "output_type": "execute_result"
    }
   ],
   "source": [
    "c"
   ]
  },
  {
   "cell_type": "code",
   "execution_count": 229,
   "metadata": {},
   "outputs": [],
   "source": [
    "# to completely copy of an array need to use copy function\n",
    "d=np.copy(a)"
   ]
  },
  {
   "cell_type": "code",
   "execution_count": 230,
   "metadata": {},
   "outputs": [
    {
     "data": {
      "text/plain": [
       "array([ 0, 36,  0, 48])"
      ]
     },
     "execution_count": 230,
     "metadata": {},
     "output_type": "execute_result"
    }
   ],
   "source": [
    "d"
   ]
  },
  {
   "cell_type": "code",
   "execution_count": 231,
   "metadata": {},
   "outputs": [],
   "source": [
    "a[0]=1"
   ]
  },
  {
   "cell_type": "code",
   "execution_count": 232,
   "metadata": {},
   "outputs": [
    {
     "data": {
      "text/plain": [
       "array([ 1, 36,  0, 48])"
      ]
     },
     "execution_count": 232,
     "metadata": {},
     "output_type": "execute_result"
    }
   ],
   "source": [
    "a"
   ]
  },
  {
   "cell_type": "code",
   "execution_count": 234,
   "metadata": {},
   "outputs": [
    {
     "data": {
      "text/plain": [
       "array([ 0, 36,  0, 48])"
      ]
     },
     "execution_count": 234,
     "metadata": {},
     "output_type": "execute_result"
    }
   ],
   "source": [
    "# here the value of d is not change after changing the value of a \n",
    "d"
   ]
  },
  {
   "cell_type": "markdown",
   "metadata": {},
   "source": [
    "# Broadcasting the length of each dimension must be equal between the two arrays or one of them must be equal to 1"
   ]
  },
  {
   "cell_type": "code",
   "execution_count": 235,
   "metadata": {},
   "outputs": [],
   "source": [
    "A=np.random.randint(16,size=(4,4))"
   ]
  },
  {
   "cell_type": "code",
   "execution_count": 236,
   "metadata": {},
   "outputs": [
    {
     "data": {
      "text/plain": [
       "array([[12,  2,  6, 13],\n",
       "       [15,  3, 11,  2],\n",
       "       [ 1,  9,  0,  3],\n",
       "       [ 0, 15, 10,  1]])"
      ]
     },
     "execution_count": 236,
     "metadata": {},
     "output_type": "execute_result"
    }
   ],
   "source": [
    "A"
   ]
  },
  {
   "cell_type": "code",
   "execution_count": 237,
   "metadata": {},
   "outputs": [],
   "source": [
    "B=np.arange(4)"
   ]
  },
  {
   "cell_type": "code",
   "execution_count": 238,
   "metadata": {},
   "outputs": [
    {
     "data": {
      "text/plain": [
       "array([0, 1, 2, 3])"
      ]
     },
     "execution_count": 238,
     "metadata": {},
     "output_type": "execute_result"
    }
   ],
   "source": [
    "B"
   ]
  },
  {
   "cell_type": "code",
   "execution_count": 239,
   "metadata": {},
   "outputs": [
    {
     "data": {
      "text/plain": [
       "array([[ 0,  2, 12, 39],\n",
       "       [ 0,  3, 22,  6],\n",
       "       [ 0,  9,  0,  9],\n",
       "       [ 0, 15, 20,  3]])"
      ]
     },
     "execution_count": 239,
     "metadata": {},
     "output_type": "execute_result"
    }
   ],
   "source": [
    "A*B"
   ]
  },
  {
   "cell_type": "code",
   "execution_count": 240,
   "metadata": {},
   "outputs": [
    {
     "data": {
      "text/plain": [
       "array([53, 31, 18, 38])"
      ]
     },
     "execution_count": 240,
     "metadata": {},
     "output_type": "execute_result"
    }
   ],
   "source": [
    "A.dot(B)"
   ]
  },
  {
   "cell_type": "code",
   "execution_count": 241,
   "metadata": {},
   "outputs": [
    {
     "data": {
      "text/plain": [
       "array([[12,  3,  8, 16],\n",
       "       [15,  4, 13,  5],\n",
       "       [ 1, 10,  2,  6],\n",
       "       [ 0, 16, 12,  4]])"
      ]
     },
     "execution_count": 241,
     "metadata": {},
     "output_type": "execute_result"
    }
   ],
   "source": [
    "A+B"
   ]
  },
  {
   "cell_type": "code",
   "execution_count": 246,
   "metadata": {},
   "outputs": [],
   "source": [
    "m=np.arange(6).reshape(3,1,2)"
   ]
  },
  {
   "cell_type": "code",
   "execution_count": 247,
   "metadata": {},
   "outputs": [
    {
     "data": {
      "text/plain": [
       "array([[[0, 1]],\n",
       "\n",
       "       [[2, 3]],\n",
       "\n",
       "       [[4, 5]]])"
      ]
     },
     "execution_count": 247,
     "metadata": {},
     "output_type": "execute_result"
    }
   ],
   "source": [
    "m"
   ]
  },
  {
   "cell_type": "code",
   "execution_count": 244,
   "metadata": {},
   "outputs": [],
   "source": [
    "n=np.arange(6).reshape(3,2,1)"
   ]
  },
  {
   "cell_type": "code",
   "execution_count": 245,
   "metadata": {},
   "outputs": [
    {
     "data": {
      "text/plain": [
       "array([[[0],\n",
       "        [1]],\n",
       "\n",
       "       [[2],\n",
       "        [3]],\n",
       "\n",
       "       [[4],\n",
       "        [5]]])"
      ]
     },
     "execution_count": 245,
     "metadata": {},
     "output_type": "execute_result"
    }
   ],
   "source": [
    "n"
   ]
  },
  {
   "cell_type": "code",
   "execution_count": 248,
   "metadata": {},
   "outputs": [
    {
     "data": {
      "text/plain": [
       "array([[[ 0,  0],\n",
       "        [ 0,  1]],\n",
       "\n",
       "       [[ 4,  6],\n",
       "        [ 6,  9]],\n",
       "\n",
       "       [[16, 20],\n",
       "        [20, 25]]])"
      ]
     },
     "execution_count": 248,
     "metadata": {},
     "output_type": "execute_result"
    }
   ],
   "source": [
    "m*n"
   ]
  },
  {
   "cell_type": "code",
   "execution_count": 249,
   "metadata": {},
   "outputs": [
    {
     "data": {
      "text/plain": [
       "array([[[[ 1],\n",
       "         [ 3],\n",
       "         [ 5]]],\n",
       "\n",
       "\n",
       "       [[[ 3],\n",
       "         [13],\n",
       "         [23]]],\n",
       "\n",
       "\n",
       "       [[[ 5],\n",
       "         [23],\n",
       "         [41]]]])"
      ]
     },
     "execution_count": 249,
     "metadata": {},
     "output_type": "execute_result"
    }
   ],
   "source": [
    "m.dot(n)"
   ]
  },
  {
   "cell_type": "markdown",
   "metadata": {},
   "source": [
    "# Structured Arrays\n",
    "much more complex not only in size but also in the structure itself"
   ]
  },
  {
   "cell_type": "code",
   "execution_count": 253,
   "metadata": {},
   "outputs": [],
   "source": [
    "structured=np.array([(1, 'First', 0.5, 1+2j),(2, 'Second', 1.3, 2-2j),(3, 'Third', 0.8, 1+3j)],dtype=('i2, a6, f4, c8'))"
   ]
  },
  {
   "cell_type": "code",
   "execution_count": 254,
   "metadata": {},
   "outputs": [
    {
     "data": {
      "text/plain": [
       "array([(1, b'First', 0.5, 1.+2.j), (2, b'Second', 1.3, 2.-2.j),\n",
       "       (3, b'Third', 0.8, 1.+3.j)],\n",
       "      dtype=[('f0', '<i2'), ('f1', 'S6'), ('f2', '<f4'), ('f3', '<c8')])"
      ]
     },
     "execution_count": 254,
     "metadata": {},
     "output_type": "execute_result"
    }
   ],
   "source": [
    "structured"
   ]
  },
  {
   "cell_type": "code",
   "execution_count": 256,
   "metadata": {},
   "outputs": [],
   "source": [
    "structured = np.array([(1, 'First', 0.5, 1+2j),(2, 'Second', 1.3,2-2j),\n",
    "(3, 'Third', 0.8, 1+3j)],dtype=('int16, a6, float32, complex64'))"
   ]
  },
  {
   "cell_type": "code",
   "execution_count": 257,
   "metadata": {},
   "outputs": [
    {
     "data": {
      "text/plain": [
       "array([(1, b'First', 0.5, 1.+2.j), (2, b'Second', 1.3, 2.-2.j),\n",
       "       (3, b'Third', 0.8, 1.+3.j)],\n",
       "      dtype=[('f0', '<i2'), ('f1', 'S6'), ('f2', '<f4'), ('f3', '<c8')])"
      ]
     },
     "execution_count": 257,
     "metadata": {},
     "output_type": "execute_result"
    }
   ],
   "source": [
    "structured"
   ]
  },
  {
   "cell_type": "code",
   "execution_count": 258,
   "metadata": {},
   "outputs": [
    {
     "data": {
      "text/plain": [
       "(2, b'Second', 1.3, 2.-2.j)"
      ]
     },
     "execution_count": 258,
     "metadata": {},
     "output_type": "execute_result"
    }
   ],
   "source": [
    "structured[1]"
   ]
  },
  {
   "cell_type": "code",
   "execution_count": 259,
   "metadata": {},
   "outputs": [
    {
     "ename": "NameError",
     "evalue": "name 'structures' is not defined",
     "output_type": "error",
     "traceback": [
      "\u001b[1;31m---------------------------------------------------------------------------\u001b[0m",
      "\u001b[1;31mNameError\u001b[0m                                 Traceback (most recent call last)",
      "\u001b[1;32m<ipython-input-259-8d2120e245d0>\u001b[0m in \u001b[0;36m<module>\u001b[1;34m\u001b[0m\n\u001b[1;32m----> 1\u001b[1;33m \u001b[0mstructures\u001b[0m\u001b[1;33m[\u001b[0m\u001b[1;34m'f1'\u001b[0m\u001b[1;33m]\u001b[0m\u001b[1;33m\u001b[0m\u001b[1;33m\u001b[0m\u001b[0m\n\u001b[0m",
      "\u001b[1;31mNameError\u001b[0m: name 'structures' is not defined"
     ]
    }
   ],
   "source": [
    "structures['f1']"
   ]
  },
  {
   "cell_type": "markdown",
   "metadata": {},
   "source": [
    "# Reading and Writing Array Data on Files"
   ]
  },
  {
   "cell_type": "markdown",
   "metadata": {},
   "source": [
    "# Loading and Saving Data in Binary Files"
   ]
  },
  {
   "cell_type": "code",
   "execution_count": 263,
   "metadata": {},
   "outputs": [],
   "source": [
    "data=np.random.random(1000)"
   ]
  },
  {
   "cell_type": "code",
   "execution_count": 264,
   "metadata": {},
   "outputs": [
    {
     "data": {
      "text/plain": [
       "array([6.46467064e-01, 2.65203460e-01, 7.16377066e-01, 5.11628117e-01,\n",
       "       3.41220681e-01, 9.20487599e-02, 8.52829191e-01, 1.87686787e-01,\n",
       "       7.84731172e-02, 4.37049546e-02, 7.02145893e-01, 3.89957892e-01,\n",
       "       8.35167704e-01, 9.18257076e-02, 8.45640335e-01, 9.22322744e-01,\n",
       "       4.13464288e-01, 8.90076616e-01, 3.27774460e-01, 7.36457365e-01,\n",
       "       8.85943851e-01, 7.52267039e-01, 2.30939394e-01, 3.81549491e-01,\n",
       "       8.52925077e-02, 2.46131386e-01, 1.28764519e-01, 9.39633664e-02,\n",
       "       2.94960718e-01, 4.71602766e-01, 7.60033092e-01, 8.41274065e-01,\n",
       "       8.15401162e-01, 8.98873511e-01, 8.51431618e-01, 6.60338481e-01,\n",
       "       6.86502855e-01, 6.96178563e-01, 8.15168306e-01, 6.88329192e-01,\n",
       "       2.75499604e-01, 9.60313588e-01, 6.46752776e-01, 7.19220043e-01,\n",
       "       9.17865237e-01, 7.39321756e-01, 7.89576729e-01, 1.02165719e-01,\n",
       "       4.00940157e-01, 1.79943059e-01, 1.65461255e-01, 9.99630207e-01,\n",
       "       4.74876021e-01, 3.46734587e-01, 2.96707644e-01, 8.36889042e-01,\n",
       "       6.90534801e-01, 7.74789104e-01, 5.23284972e-02, 3.28580761e-01,\n",
       "       4.95042259e-01, 1.53078530e-01, 5.76973077e-01, 9.28235014e-01,\n",
       "       8.08669022e-02, 1.33123540e-01, 1.21363690e-01, 2.08061342e-01,\n",
       "       5.15875062e-01, 3.98521108e-02, 2.73794931e-01, 1.51867859e-01,\n",
       "       3.56207637e-01, 4.20796508e-01, 2.20505566e-01, 4.32628177e-01,\n",
       "       3.51296541e-02, 9.78044815e-01, 6.30873181e-01, 6.24163753e-01,\n",
       "       1.70787611e-01, 5.15017611e-01, 9.78454739e-01, 1.73360779e-02,\n",
       "       6.44817759e-01, 2.90772836e-01, 9.54539806e-01, 4.98182797e-01,\n",
       "       8.04856872e-01, 2.54956942e-02, 9.16858393e-01, 5.09948536e-01,\n",
       "       7.87872657e-01, 4.50908651e-01, 8.78740879e-01, 6.92220835e-01,\n",
       "       6.58082978e-01, 4.43941127e-01, 4.64151052e-01, 5.71094369e-01,\n",
       "       5.91463025e-01, 4.74400627e-01, 2.06128795e-01, 6.96427621e-01,\n",
       "       2.16780140e-01, 5.15498776e-03, 3.39866602e-01, 6.02457141e-01,\n",
       "       9.39432386e-01, 3.22649599e-01, 9.38805769e-01, 7.00601031e-01,\n",
       "       4.52073961e-03, 1.86146291e-01, 5.62050775e-01, 7.36207184e-01,\n",
       "       8.00489433e-01, 8.05073948e-01, 6.01317151e-01, 7.49895385e-01,\n",
       "       7.36338389e-01, 4.45385219e-01, 8.91528979e-01, 3.13593694e-01,\n",
       "       3.55335582e-01, 5.30769852e-01, 5.89248137e-01, 5.00830968e-01,\n",
       "       3.20753179e-01, 6.72468646e-01, 1.93908836e-01, 6.73339477e-01,\n",
       "       7.43532019e-01, 6.77367102e-01, 6.49088465e-01, 2.42483714e-01,\n",
       "       6.16972279e-01, 2.91572511e-01, 5.98774447e-01, 1.74105804e-01,\n",
       "       1.66263939e-01, 4.57245485e-01, 9.73975056e-01, 6.20001912e-01,\n",
       "       4.93778412e-02, 9.90600247e-01, 1.15297110e-02, 1.25735318e-02,\n",
       "       8.00048494e-01, 1.61896683e-02, 3.44130693e-01, 6.41197935e-01,\n",
       "       2.72955157e-01, 3.95841192e-01, 4.61901228e-01, 3.07665413e-01,\n",
       "       2.87572027e-01, 6.61271314e-01, 6.71698478e-01, 9.77014174e-02,\n",
       "       5.36966813e-01, 4.75087659e-02, 5.81666113e-01, 7.57019035e-01,\n",
       "       4.58916136e-02, 7.04341414e-01, 7.65359270e-01, 4.45520806e-01,\n",
       "       5.96205640e-01, 6.51762598e-01, 5.52363986e-02, 6.13483093e-01,\n",
       "       8.38313132e-01, 8.75237824e-01, 1.84732136e-01, 1.28613010e-01,\n",
       "       7.63508936e-01, 3.57829565e-01, 5.15370132e-01, 7.54224059e-01,\n",
       "       7.38843431e-01, 6.44561093e-01, 7.32500587e-01, 5.11816901e-01,\n",
       "       3.97368792e-01, 9.51506028e-01, 9.71638399e-01, 4.53410549e-01,\n",
       "       8.51507102e-03, 9.26476150e-01, 6.68501932e-01, 4.95968716e-01,\n",
       "       9.35107931e-01, 6.42524337e-01, 3.64202334e-01, 8.59080402e-01,\n",
       "       6.72417046e-02, 2.78273264e-01, 6.15667810e-02, 7.19666708e-01,\n",
       "       4.56206323e-01, 7.15369731e-01, 9.02674175e-01, 1.36641639e-01,\n",
       "       3.03544276e-01, 7.63829195e-01, 9.35520098e-01, 6.79696266e-01,\n",
       "       3.87051505e-01, 4.44782873e-01, 9.66414063e-01, 2.07871771e-01,\n",
       "       1.35296017e-01, 3.80467044e-01, 5.97009452e-01, 8.32545362e-01,\n",
       "       5.34861670e-01, 7.72138582e-01, 2.67150634e-01, 3.47906786e-01,\n",
       "       3.63672629e-01, 2.91752808e-01, 1.75334320e-01, 4.10671466e-01,\n",
       "       1.36080646e-01, 7.45114621e-01, 8.62614628e-01, 3.49840826e-01,\n",
       "       8.61678245e-01, 3.92047499e-01, 2.89601017e-01, 7.07187379e-01,\n",
       "       5.15622496e-01, 2.90868707e-01, 9.14810503e-01, 1.40131536e-01,\n",
       "       7.08456720e-01, 5.92593352e-01, 9.17766384e-01, 1.49448337e-01,\n",
       "       8.56847494e-01, 4.77374167e-02, 5.87392741e-01, 9.56132694e-01,\n",
       "       7.29637086e-01, 8.85599515e-01, 6.87960604e-01, 3.58302907e-01,\n",
       "       1.80931825e-01, 5.56379310e-01, 5.51209568e-01, 3.38625478e-01,\n",
       "       7.17347522e-02, 5.97785683e-01, 5.70344226e-01, 7.71572303e-01,\n",
       "       7.74304163e-02, 2.78260765e-01, 9.41990743e-01, 1.03997369e-01,\n",
       "       1.54469562e-01, 8.35912306e-01, 2.84597567e-01, 2.53566315e-01,\n",
       "       5.41446397e-01, 8.12855754e-01, 4.59201119e-01, 2.33564900e-01,\n",
       "       1.73251677e-01, 1.60091909e-01, 9.95994067e-01, 7.50750098e-01,\n",
       "       6.06754783e-01, 5.28861574e-01, 4.40810881e-01, 6.72067947e-02,\n",
       "       1.73820533e-01, 2.10316916e-01, 3.49307818e-01, 3.95691699e-01,\n",
       "       1.29858206e-01, 1.32429364e-01, 3.68198860e-02, 4.09874516e-01,\n",
       "       9.61150883e-01, 3.17679976e-02, 7.43633671e-01, 1.89581191e-02,\n",
       "       4.77005666e-01, 9.42289995e-01, 1.44090673e-02, 8.96659955e-01,\n",
       "       5.30737070e-01, 4.74611745e-01, 2.35543310e-01, 8.51018174e-01,\n",
       "       7.51641335e-01, 2.66261088e-01, 1.77975139e-01, 7.72013675e-02,\n",
       "       5.11933334e-01, 7.71398732e-01, 8.44480408e-01, 6.56360320e-01,\n",
       "       1.98869570e-01, 7.93588668e-01, 1.35436773e-01, 7.59093992e-01,\n",
       "       6.02730589e-01, 5.47966500e-01, 8.57282145e-01, 9.23791972e-01,\n",
       "       8.90166017e-01, 4.88463592e-01, 6.77263408e-01, 9.27741589e-01,\n",
       "       1.79799292e-01, 3.56674685e-01, 9.03741700e-01, 8.79307722e-01,\n",
       "       8.91053169e-01, 9.57743437e-01, 4.03658343e-01, 1.59607818e-01,\n",
       "       2.25257320e-01, 7.14638087e-01, 2.65320086e-01, 6.99152510e-01,\n",
       "       2.02199316e-01, 4.04181931e-02, 8.89755919e-01, 9.40588458e-01,\n",
       "       5.43752820e-01, 1.66665299e-01, 7.93026557e-01, 7.41022521e-01,\n",
       "       4.99889350e-01, 5.59542303e-01, 9.43206844e-01, 1.69098570e-01,\n",
       "       2.91781151e-01, 8.53560209e-01, 3.57744217e-01, 9.13411271e-01,\n",
       "       1.16282772e-01, 5.66562964e-01, 5.93031086e-01, 8.79562677e-01,\n",
       "       2.67004246e-01, 9.91883577e-01, 3.61660094e-01, 2.70061249e-01,\n",
       "       5.55614509e-01, 9.73470466e-01, 5.67415286e-01, 8.30958005e-01,\n",
       "       7.03442650e-01, 5.46737910e-01, 4.47278525e-01, 1.90921985e-01,\n",
       "       5.07980026e-01, 3.55628805e-01, 8.93791897e-01, 9.49620223e-01,\n",
       "       4.46796795e-01, 3.91833551e-01, 5.46407662e-01, 9.89122270e-01,\n",
       "       6.35959130e-01, 4.65571587e-01, 2.74286504e-01, 4.14112013e-02,\n",
       "       1.77404797e-01, 2.93367067e-01, 5.63761800e-01, 4.89524359e-01,\n",
       "       6.69960191e-01, 5.01602126e-01, 8.25852666e-01, 9.07862429e-01,\n",
       "       3.91913754e-01, 4.77679256e-01, 3.02081015e-01, 8.60044179e-01,\n",
       "       6.53473070e-01, 5.90748351e-02, 9.80072324e-01, 3.85377039e-01,\n",
       "       9.60817193e-01, 4.51742395e-01, 4.52781991e-01, 6.10274335e-01,\n",
       "       7.05805567e-01, 9.51967818e-01, 6.06866635e-01, 1.94828761e-01,\n",
       "       4.41961526e-01, 8.07617218e-01, 2.24768766e-01, 5.18784401e-01,\n",
       "       7.85457470e-02, 2.19994818e-01, 2.01862196e-01, 3.31909176e-01,\n",
       "       1.04182432e-01, 8.70490846e-01, 2.67996675e-01, 8.86544799e-01,\n",
       "       1.90477706e-01, 7.58524903e-01, 8.77827202e-01, 7.74756812e-01,\n",
       "       6.60321715e-01, 3.26926355e-01, 8.36387267e-01, 4.45981835e-01,\n",
       "       1.33896307e-01, 5.45319605e-01, 4.40812233e-01, 4.17768336e-01,\n",
       "       9.09505374e-01, 4.64461773e-01, 3.70925173e-01, 6.07579408e-01,\n",
       "       2.74326802e-02, 7.00146230e-01, 7.60231249e-01, 1.86645114e-01,\n",
       "       1.11241770e-01, 7.47085278e-01, 1.30914979e-01, 4.43133584e-01,\n",
       "       2.45124206e-03, 1.10203693e-01, 6.08734873e-01, 5.11391043e-01,\n",
       "       2.19746625e-01, 4.55197453e-01, 6.38105407e-01, 1.12402171e-01,\n",
       "       7.98131277e-01, 9.23346191e-01, 4.29605152e-01, 8.09571544e-01,\n",
       "       4.30765918e-01, 6.01990055e-01, 5.47468555e-01, 6.41812234e-01,\n",
       "       3.89575442e-01, 1.18239043e-01, 1.26324263e-01, 4.95216402e-01,\n",
       "       2.77659146e-01, 3.54511323e-01, 3.55097269e-01, 8.81825871e-01,\n",
       "       7.11657998e-01, 3.89704393e-01, 9.72222162e-01, 3.85266219e-01,\n",
       "       2.63789013e-01, 8.05633062e-01, 6.63565458e-01, 3.67549342e-01,\n",
       "       3.26614180e-01, 5.29662809e-02, 4.27473087e-02, 3.79235289e-01,\n",
       "       6.18927994e-01, 5.02956161e-01, 6.33549343e-01, 8.77438719e-01,\n",
       "       1.99262575e-01, 2.93139214e-03, 9.25356839e-01, 8.13970318e-01,\n",
       "       6.33942253e-01, 7.37115774e-01, 4.81671423e-01, 6.73888376e-01,\n",
       "       2.55678384e-01, 3.72692617e-01, 4.70220422e-01, 4.86438284e-01,\n",
       "       3.91057554e-01, 6.95202992e-01, 2.98211829e-01, 9.53353538e-02,\n",
       "       7.28053877e-01, 5.94326885e-01, 7.17203533e-01, 2.86378274e-01,\n",
       "       5.19745662e-01, 9.19049827e-01, 7.70201284e-01, 8.42303066e-01,\n",
       "       2.97701849e-01, 4.93701884e-01, 4.58234841e-01, 8.67139720e-01,\n",
       "       9.99106022e-01, 7.09979678e-01, 3.13583898e-01, 7.13823582e-01,\n",
       "       1.11353564e-01, 9.96613741e-01, 3.33192486e-01, 8.28648486e-01,\n",
       "       9.33870305e-01, 4.88910543e-01, 7.65096764e-01, 4.14427475e-01,\n",
       "       9.58421995e-01, 6.61997420e-01, 6.03530034e-01, 8.29676565e-01,\n",
       "       4.69858314e-01, 5.64892608e-01, 1.67224960e-01, 9.41679602e-02,\n",
       "       3.77350564e-01, 9.33981755e-01, 2.30203189e-01, 3.53879885e-01,\n",
       "       1.50229357e-01, 2.66175331e-01, 1.65109196e-01, 1.42258672e-01,\n",
       "       9.01730028e-01, 2.75061695e-01, 1.56152715e-01, 8.23227244e-01,\n",
       "       1.77435842e-01, 1.35436202e-01, 4.64984114e-01, 2.25104581e-02,\n",
       "       6.37999521e-01, 8.82408994e-01, 9.73899903e-01, 8.32767893e-01,\n",
       "       5.02698847e-01, 6.92561966e-01, 2.57948648e-02, 4.67132487e-01,\n",
       "       2.26653692e-01, 4.91186069e-01, 7.59984121e-01, 1.43913655e-01,\n",
       "       8.91172785e-02, 4.98429729e-01, 9.38319278e-01, 5.76754223e-01,\n",
       "       4.68260695e-01, 7.46778720e-01, 9.11118584e-01, 6.58997567e-01,\n",
       "       6.45048459e-01, 4.49139474e-01, 2.43884854e-01, 8.77551231e-01,\n",
       "       2.95608751e-01, 2.86342068e-01, 1.80255329e-01, 4.79972842e-01,\n",
       "       3.87561013e-01, 4.14575774e-02, 5.00745801e-01, 4.85075216e-01,\n",
       "       1.39787155e-01, 4.32043729e-01, 1.67906489e-01, 9.80079905e-01,\n",
       "       3.94991499e-01, 1.26895366e-01, 4.09904992e-02, 2.89261303e-01,\n",
       "       6.00266233e-01, 3.27389812e-01, 4.51448100e-01, 3.54119659e-01,\n",
       "       6.82115852e-01, 4.55724535e-01, 7.86974784e-01, 7.16510633e-01,\n",
       "       1.36345470e-01, 3.30560964e-03, 7.54990237e-01, 2.34168366e-02,\n",
       "       6.41487180e-01, 4.48279978e-01, 7.26294436e-01, 5.65879638e-01,\n",
       "       8.08398127e-02, 9.03936354e-01, 8.69491871e-01, 3.54542227e-01,\n",
       "       6.82321425e-01, 7.75724640e-01, 2.15984212e-01, 5.94135683e-01,\n",
       "       6.33760194e-01, 8.89425186e-01, 6.44964628e-01, 3.51432346e-01,\n",
       "       7.39877221e-02, 7.05053053e-01, 6.53918181e-01, 3.79155231e-01,\n",
       "       1.17952879e-01, 1.91025485e-01, 7.92215361e-01, 2.25293043e-01,\n",
       "       6.53896209e-01, 4.19964744e-01, 2.41802292e-01, 4.14916962e-01,\n",
       "       6.95333290e-01, 1.05675358e-01, 4.43818521e-01, 3.62742806e-01,\n",
       "       9.13345721e-01, 5.33336549e-01, 2.98156669e-01, 8.07806605e-01,\n",
       "       2.16720043e-01, 2.01174394e-01, 8.67029129e-01, 8.44867508e-01,\n",
       "       6.47144713e-01, 4.79930422e-01, 8.70483724e-01, 2.22173043e-01,\n",
       "       1.51066576e-01, 4.72879304e-02, 1.69813778e-01, 5.62994056e-01,\n",
       "       7.23411691e-01, 2.51351628e-01, 6.61012817e-01, 6.22019556e-01,\n",
       "       8.96058223e-01, 2.43837334e-01, 4.73649222e-01, 2.50371013e-01,\n",
       "       8.21537498e-02, 2.49345963e-01, 6.49787836e-01, 2.31763597e-01,\n",
       "       6.87699487e-02, 6.10896365e-01, 9.44777911e-01, 2.27355224e-01,\n",
       "       3.90675079e-01, 9.22042629e-01, 5.58120724e-01, 2.91360798e-01,\n",
       "       1.52922326e-02, 7.86934883e-01, 6.32559082e-01, 9.72875705e-01,\n",
       "       9.18457646e-01, 3.86925709e-01, 7.09447194e-01, 2.68348749e-01,\n",
       "       9.89402260e-01, 3.20945639e-01, 7.47936124e-01, 5.80560235e-01,\n",
       "       3.20373549e-01, 7.02877800e-01, 3.11252801e-01, 5.23640319e-01,\n",
       "       8.88949773e-01, 2.47370483e-01, 4.08311129e-01, 8.38008989e-01,\n",
       "       9.54527464e-01, 3.78849388e-01, 4.14223690e-01, 7.68610897e-01,\n",
       "       4.12307530e-01, 9.65591481e-01, 3.36335231e-01, 8.07288198e-01,\n",
       "       9.50665656e-01, 5.80523729e-01, 3.43860520e-01, 8.96090707e-01,\n",
       "       7.87261452e-01, 9.61113184e-01, 8.80251823e-01, 8.12206550e-01,\n",
       "       2.14618562e-02, 7.14547869e-01, 3.72446116e-01, 9.01608103e-01,\n",
       "       8.51218914e-01, 1.28589579e-01, 6.86926416e-01, 9.46491118e-01,\n",
       "       1.87138278e-01, 4.84682119e-01, 7.44504613e-02, 9.56485730e-01,\n",
       "       5.87456720e-01, 5.12229465e-01, 7.39390094e-01, 2.21051438e-01,\n",
       "       1.52699439e-01, 1.92991450e-01, 3.94268837e-01, 3.39195538e-01,\n",
       "       3.80704651e-01, 9.72371820e-02, 1.12031209e-01, 6.51347569e-01,\n",
       "       3.02513718e-01, 3.22316417e-01, 3.63289656e-01, 5.03395906e-01,\n",
       "       9.03813676e-01, 4.65274481e-02, 7.45054665e-01, 4.43450069e-01,\n",
       "       3.02157783e-01, 3.09319354e-01, 2.96432758e-02, 6.22396315e-01,\n",
       "       7.89494216e-01, 8.40873667e-01, 5.89822138e-01, 2.51565423e-01,\n",
       "       5.67261147e-01, 6.54721031e-01, 9.70720683e-01, 1.81753121e-02,\n",
       "       6.59493219e-01, 7.43352429e-01, 3.02413560e-01, 9.83090002e-01,\n",
       "       7.24917865e-01, 8.24157994e-01, 5.44555156e-01, 2.77032361e-01,\n",
       "       2.91950309e-01, 8.70906000e-01, 2.72034155e-01, 9.88853120e-01,\n",
       "       1.24427427e-01, 5.30625712e-01, 4.29048305e-01, 3.48805418e-01,\n",
       "       3.27936577e-01, 5.47701291e-01, 6.56094118e-01, 9.60571505e-01,\n",
       "       7.51886578e-01, 9.50432847e-01, 4.99278459e-01, 5.04737307e-01,\n",
       "       9.71570886e-01, 2.78914526e-01, 8.96409175e-01, 3.22362618e-01,\n",
       "       8.03266249e-01, 3.05304431e-01, 7.54811083e-01, 9.56010173e-01,\n",
       "       8.62935456e-01, 8.55985759e-01, 4.60916990e-01, 6.51971117e-02,\n",
       "       1.89682815e-01, 8.07902085e-01, 3.89822543e-02, 9.50677804e-01,\n",
       "       3.61014303e-01, 2.48395341e-01, 3.33035399e-01, 6.98067521e-01,\n",
       "       1.45130828e-01, 6.68106420e-01, 1.11634553e-01, 9.70055301e-01,\n",
       "       6.11066326e-01, 4.25951504e-01, 7.56840414e-01, 7.55856458e-01,\n",
       "       4.49349111e-01, 7.77166714e-01, 9.22510109e-01, 9.65193846e-01,\n",
       "       3.26001965e-01, 6.49331336e-01, 2.04547485e-01, 7.18364971e-01,\n",
       "       8.61011071e-01, 1.76838811e-01, 3.79948012e-01, 9.67278265e-01,\n",
       "       6.47779708e-01, 7.33840393e-01, 1.88815644e-01, 2.05128946e-01,\n",
       "       2.98491333e-01, 5.52992184e-01, 8.58988218e-01, 9.97648132e-01,\n",
       "       8.65372569e-01, 4.20952639e-01, 2.45206856e-01, 1.08772683e-01,\n",
       "       7.44474602e-01, 2.37012241e-01, 7.13454330e-01, 2.97358364e-01,\n",
       "       9.88320162e-01, 1.75800560e-01, 3.23233923e-01, 6.67613292e-01,\n",
       "       6.80446583e-01, 4.91455187e-01, 5.61846164e-01, 4.27754222e-02,\n",
       "       9.78481038e-01, 1.35727051e-02, 7.15659195e-01, 4.40406340e-01,\n",
       "       5.05715214e-01, 1.43667112e-01, 6.38242716e-02, 3.03495216e-02,\n",
       "       7.24525165e-02, 6.94191476e-01, 5.08822800e-01, 7.83868932e-01,\n",
       "       5.98315184e-01, 5.43172704e-01, 7.20890959e-01, 4.44945197e-01,\n",
       "       1.57415922e-01, 9.72813245e-01, 6.91539797e-01, 3.61107144e-01,\n",
       "       4.45232992e-01, 7.10637159e-05, 4.56475078e-02, 7.87644541e-01,\n",
       "       6.50008643e-02, 8.41053695e-01, 1.26878414e-02, 6.76417792e-01,\n",
       "       8.63785450e-02, 6.71258229e-01, 8.32202583e-01, 6.08695348e-01,\n",
       "       6.27099101e-01, 9.78109031e-01, 6.34487286e-01, 5.15910540e-01,\n",
       "       1.65332825e-01, 5.21804109e-01, 3.99888891e-01, 1.52403576e-01,\n",
       "       8.26080672e-01, 4.24266871e-01, 7.78796200e-01, 7.99382822e-01,\n",
       "       5.50050064e-01, 8.42173204e-02, 5.74584969e-01, 7.76703263e-01,\n",
       "       3.91621290e-01, 9.17674756e-01, 2.86107231e-01, 2.86465596e-02,\n",
       "       9.63296055e-02, 1.14357005e-01, 3.11295709e-01, 2.30442051e-01,\n",
       "       6.76468608e-02, 3.22350366e-01, 5.95983256e-01, 7.70282845e-02,\n",
       "       7.61944480e-01, 4.94954701e-01, 3.33283351e-02, 8.60917488e-01,\n",
       "       4.05514036e-01, 9.63443994e-01, 9.05358466e-01, 8.82051855e-01,\n",
       "       7.72772170e-01, 1.43430549e-01, 5.40727195e-01, 1.56666781e-01,\n",
       "       1.66284828e-01, 3.27761280e-01, 4.81598791e-02, 5.58949270e-01,\n",
       "       9.82314210e-02, 7.29186282e-01, 9.87519755e-01, 6.86476139e-01,\n",
       "       2.24746641e-02, 3.15778644e-01, 9.05683100e-01, 3.67482043e-01,\n",
       "       1.75892494e-01, 8.40073711e-01, 3.36481872e-03, 5.37048594e-01,\n",
       "       2.15068123e-01, 9.62094268e-02, 5.46055335e-01, 3.09087633e-01,\n",
       "       7.50764445e-01, 2.89835212e-01, 8.82226696e-01, 6.38153690e-01,\n",
       "       8.91608700e-01, 3.28560894e-01, 9.50748942e-01, 5.81968777e-01,\n",
       "       1.07688701e-01, 2.89038385e-01, 3.11203114e-01, 6.76091181e-02,\n",
       "       7.28350482e-01, 7.93186036e-01, 8.09055545e-02, 1.68771461e-01,\n",
       "       3.22367338e-01, 8.74723427e-01, 3.84058777e-01, 6.14575958e-01,\n",
       "       3.73195689e-01, 7.16560053e-01, 4.01108629e-01, 3.18089038e-01,\n",
       "       5.42655168e-01, 3.58393901e-01, 4.77322618e-01, 1.62838580e-01,\n",
       "       2.40726470e-01, 7.23048021e-01, 5.95680941e-01, 3.30477032e-01,\n",
       "       5.38413083e-01, 6.44247540e-01, 4.09343818e-01, 6.72364916e-01,\n",
       "       6.56483428e-01, 2.70620492e-01, 2.77330822e-01, 9.36440561e-01,\n",
       "       6.73961982e-01, 4.96719821e-01, 8.08674013e-01, 6.45259448e-01,\n",
       "       1.01764262e-01, 2.65367299e-01, 9.94241527e-01, 3.32233384e-01,\n",
       "       7.62489253e-01, 2.26782280e-01, 5.05559484e-01, 7.00256542e-01,\n",
       "       4.00236670e-01, 7.09770872e-01, 8.03223636e-02, 7.23424921e-01,\n",
       "       1.49762270e-01, 4.70968531e-01, 6.88453886e-01, 7.29834591e-01,\n",
       "       4.99922797e-01, 1.74683967e-01, 9.89968208e-01, 3.01732859e-01,\n",
       "       7.22064706e-01, 5.30208617e-02, 2.06500757e-01, 7.04857419e-01,\n",
       "       1.35756504e-01, 2.67603651e-02, 9.39672482e-01, 5.06299332e-01,\n",
       "       4.73853730e-01, 2.62561578e-01, 1.33218120e-01, 2.16506387e-01,\n",
       "       3.16975509e-01, 4.85069505e-01, 8.31355947e-01, 2.36392306e-02,\n",
       "       8.15798681e-01, 8.76822078e-01, 7.85437551e-01, 7.55806781e-01])"
      ]
     },
     "execution_count": 264,
     "metadata": {},
     "output_type": "execute_result"
    }
   ],
   "source": [
    "data"
   ]
  },
  {
   "cell_type": "code",
   "execution_count": 265,
   "metadata": {},
   "outputs": [],
   "source": [
    "# saving data by using save() function\n",
    "np.save('random_data',data)"
   ]
  },
  {
   "cell_type": "code",
   "execution_count": 266,
   "metadata": {},
   "outputs": [],
   "source": [
    "# reading data by using load() function and .npy extension\n",
    "loaded_data=np.load('random_data.npy')"
   ]
  },
  {
   "cell_type": "code",
   "execution_count": 267,
   "metadata": {},
   "outputs": [
    {
     "data": {
      "text/plain": [
       "array([6.46467064e-01, 2.65203460e-01, 7.16377066e-01, 5.11628117e-01,\n",
       "       3.41220681e-01, 9.20487599e-02, 8.52829191e-01, 1.87686787e-01,\n",
       "       7.84731172e-02, 4.37049546e-02, 7.02145893e-01, 3.89957892e-01,\n",
       "       8.35167704e-01, 9.18257076e-02, 8.45640335e-01, 9.22322744e-01,\n",
       "       4.13464288e-01, 8.90076616e-01, 3.27774460e-01, 7.36457365e-01,\n",
       "       8.85943851e-01, 7.52267039e-01, 2.30939394e-01, 3.81549491e-01,\n",
       "       8.52925077e-02, 2.46131386e-01, 1.28764519e-01, 9.39633664e-02,\n",
       "       2.94960718e-01, 4.71602766e-01, 7.60033092e-01, 8.41274065e-01,\n",
       "       8.15401162e-01, 8.98873511e-01, 8.51431618e-01, 6.60338481e-01,\n",
       "       6.86502855e-01, 6.96178563e-01, 8.15168306e-01, 6.88329192e-01,\n",
       "       2.75499604e-01, 9.60313588e-01, 6.46752776e-01, 7.19220043e-01,\n",
       "       9.17865237e-01, 7.39321756e-01, 7.89576729e-01, 1.02165719e-01,\n",
       "       4.00940157e-01, 1.79943059e-01, 1.65461255e-01, 9.99630207e-01,\n",
       "       4.74876021e-01, 3.46734587e-01, 2.96707644e-01, 8.36889042e-01,\n",
       "       6.90534801e-01, 7.74789104e-01, 5.23284972e-02, 3.28580761e-01,\n",
       "       4.95042259e-01, 1.53078530e-01, 5.76973077e-01, 9.28235014e-01,\n",
       "       8.08669022e-02, 1.33123540e-01, 1.21363690e-01, 2.08061342e-01,\n",
       "       5.15875062e-01, 3.98521108e-02, 2.73794931e-01, 1.51867859e-01,\n",
       "       3.56207637e-01, 4.20796508e-01, 2.20505566e-01, 4.32628177e-01,\n",
       "       3.51296541e-02, 9.78044815e-01, 6.30873181e-01, 6.24163753e-01,\n",
       "       1.70787611e-01, 5.15017611e-01, 9.78454739e-01, 1.73360779e-02,\n",
       "       6.44817759e-01, 2.90772836e-01, 9.54539806e-01, 4.98182797e-01,\n",
       "       8.04856872e-01, 2.54956942e-02, 9.16858393e-01, 5.09948536e-01,\n",
       "       7.87872657e-01, 4.50908651e-01, 8.78740879e-01, 6.92220835e-01,\n",
       "       6.58082978e-01, 4.43941127e-01, 4.64151052e-01, 5.71094369e-01,\n",
       "       5.91463025e-01, 4.74400627e-01, 2.06128795e-01, 6.96427621e-01,\n",
       "       2.16780140e-01, 5.15498776e-03, 3.39866602e-01, 6.02457141e-01,\n",
       "       9.39432386e-01, 3.22649599e-01, 9.38805769e-01, 7.00601031e-01,\n",
       "       4.52073961e-03, 1.86146291e-01, 5.62050775e-01, 7.36207184e-01,\n",
       "       8.00489433e-01, 8.05073948e-01, 6.01317151e-01, 7.49895385e-01,\n",
       "       7.36338389e-01, 4.45385219e-01, 8.91528979e-01, 3.13593694e-01,\n",
       "       3.55335582e-01, 5.30769852e-01, 5.89248137e-01, 5.00830968e-01,\n",
       "       3.20753179e-01, 6.72468646e-01, 1.93908836e-01, 6.73339477e-01,\n",
       "       7.43532019e-01, 6.77367102e-01, 6.49088465e-01, 2.42483714e-01,\n",
       "       6.16972279e-01, 2.91572511e-01, 5.98774447e-01, 1.74105804e-01,\n",
       "       1.66263939e-01, 4.57245485e-01, 9.73975056e-01, 6.20001912e-01,\n",
       "       4.93778412e-02, 9.90600247e-01, 1.15297110e-02, 1.25735318e-02,\n",
       "       8.00048494e-01, 1.61896683e-02, 3.44130693e-01, 6.41197935e-01,\n",
       "       2.72955157e-01, 3.95841192e-01, 4.61901228e-01, 3.07665413e-01,\n",
       "       2.87572027e-01, 6.61271314e-01, 6.71698478e-01, 9.77014174e-02,\n",
       "       5.36966813e-01, 4.75087659e-02, 5.81666113e-01, 7.57019035e-01,\n",
       "       4.58916136e-02, 7.04341414e-01, 7.65359270e-01, 4.45520806e-01,\n",
       "       5.96205640e-01, 6.51762598e-01, 5.52363986e-02, 6.13483093e-01,\n",
       "       8.38313132e-01, 8.75237824e-01, 1.84732136e-01, 1.28613010e-01,\n",
       "       7.63508936e-01, 3.57829565e-01, 5.15370132e-01, 7.54224059e-01,\n",
       "       7.38843431e-01, 6.44561093e-01, 7.32500587e-01, 5.11816901e-01,\n",
       "       3.97368792e-01, 9.51506028e-01, 9.71638399e-01, 4.53410549e-01,\n",
       "       8.51507102e-03, 9.26476150e-01, 6.68501932e-01, 4.95968716e-01,\n",
       "       9.35107931e-01, 6.42524337e-01, 3.64202334e-01, 8.59080402e-01,\n",
       "       6.72417046e-02, 2.78273264e-01, 6.15667810e-02, 7.19666708e-01,\n",
       "       4.56206323e-01, 7.15369731e-01, 9.02674175e-01, 1.36641639e-01,\n",
       "       3.03544276e-01, 7.63829195e-01, 9.35520098e-01, 6.79696266e-01,\n",
       "       3.87051505e-01, 4.44782873e-01, 9.66414063e-01, 2.07871771e-01,\n",
       "       1.35296017e-01, 3.80467044e-01, 5.97009452e-01, 8.32545362e-01,\n",
       "       5.34861670e-01, 7.72138582e-01, 2.67150634e-01, 3.47906786e-01,\n",
       "       3.63672629e-01, 2.91752808e-01, 1.75334320e-01, 4.10671466e-01,\n",
       "       1.36080646e-01, 7.45114621e-01, 8.62614628e-01, 3.49840826e-01,\n",
       "       8.61678245e-01, 3.92047499e-01, 2.89601017e-01, 7.07187379e-01,\n",
       "       5.15622496e-01, 2.90868707e-01, 9.14810503e-01, 1.40131536e-01,\n",
       "       7.08456720e-01, 5.92593352e-01, 9.17766384e-01, 1.49448337e-01,\n",
       "       8.56847494e-01, 4.77374167e-02, 5.87392741e-01, 9.56132694e-01,\n",
       "       7.29637086e-01, 8.85599515e-01, 6.87960604e-01, 3.58302907e-01,\n",
       "       1.80931825e-01, 5.56379310e-01, 5.51209568e-01, 3.38625478e-01,\n",
       "       7.17347522e-02, 5.97785683e-01, 5.70344226e-01, 7.71572303e-01,\n",
       "       7.74304163e-02, 2.78260765e-01, 9.41990743e-01, 1.03997369e-01,\n",
       "       1.54469562e-01, 8.35912306e-01, 2.84597567e-01, 2.53566315e-01,\n",
       "       5.41446397e-01, 8.12855754e-01, 4.59201119e-01, 2.33564900e-01,\n",
       "       1.73251677e-01, 1.60091909e-01, 9.95994067e-01, 7.50750098e-01,\n",
       "       6.06754783e-01, 5.28861574e-01, 4.40810881e-01, 6.72067947e-02,\n",
       "       1.73820533e-01, 2.10316916e-01, 3.49307818e-01, 3.95691699e-01,\n",
       "       1.29858206e-01, 1.32429364e-01, 3.68198860e-02, 4.09874516e-01,\n",
       "       9.61150883e-01, 3.17679976e-02, 7.43633671e-01, 1.89581191e-02,\n",
       "       4.77005666e-01, 9.42289995e-01, 1.44090673e-02, 8.96659955e-01,\n",
       "       5.30737070e-01, 4.74611745e-01, 2.35543310e-01, 8.51018174e-01,\n",
       "       7.51641335e-01, 2.66261088e-01, 1.77975139e-01, 7.72013675e-02,\n",
       "       5.11933334e-01, 7.71398732e-01, 8.44480408e-01, 6.56360320e-01,\n",
       "       1.98869570e-01, 7.93588668e-01, 1.35436773e-01, 7.59093992e-01,\n",
       "       6.02730589e-01, 5.47966500e-01, 8.57282145e-01, 9.23791972e-01,\n",
       "       8.90166017e-01, 4.88463592e-01, 6.77263408e-01, 9.27741589e-01,\n",
       "       1.79799292e-01, 3.56674685e-01, 9.03741700e-01, 8.79307722e-01,\n",
       "       8.91053169e-01, 9.57743437e-01, 4.03658343e-01, 1.59607818e-01,\n",
       "       2.25257320e-01, 7.14638087e-01, 2.65320086e-01, 6.99152510e-01,\n",
       "       2.02199316e-01, 4.04181931e-02, 8.89755919e-01, 9.40588458e-01,\n",
       "       5.43752820e-01, 1.66665299e-01, 7.93026557e-01, 7.41022521e-01,\n",
       "       4.99889350e-01, 5.59542303e-01, 9.43206844e-01, 1.69098570e-01,\n",
       "       2.91781151e-01, 8.53560209e-01, 3.57744217e-01, 9.13411271e-01,\n",
       "       1.16282772e-01, 5.66562964e-01, 5.93031086e-01, 8.79562677e-01,\n",
       "       2.67004246e-01, 9.91883577e-01, 3.61660094e-01, 2.70061249e-01,\n",
       "       5.55614509e-01, 9.73470466e-01, 5.67415286e-01, 8.30958005e-01,\n",
       "       7.03442650e-01, 5.46737910e-01, 4.47278525e-01, 1.90921985e-01,\n",
       "       5.07980026e-01, 3.55628805e-01, 8.93791897e-01, 9.49620223e-01,\n",
       "       4.46796795e-01, 3.91833551e-01, 5.46407662e-01, 9.89122270e-01,\n",
       "       6.35959130e-01, 4.65571587e-01, 2.74286504e-01, 4.14112013e-02,\n",
       "       1.77404797e-01, 2.93367067e-01, 5.63761800e-01, 4.89524359e-01,\n",
       "       6.69960191e-01, 5.01602126e-01, 8.25852666e-01, 9.07862429e-01,\n",
       "       3.91913754e-01, 4.77679256e-01, 3.02081015e-01, 8.60044179e-01,\n",
       "       6.53473070e-01, 5.90748351e-02, 9.80072324e-01, 3.85377039e-01,\n",
       "       9.60817193e-01, 4.51742395e-01, 4.52781991e-01, 6.10274335e-01,\n",
       "       7.05805567e-01, 9.51967818e-01, 6.06866635e-01, 1.94828761e-01,\n",
       "       4.41961526e-01, 8.07617218e-01, 2.24768766e-01, 5.18784401e-01,\n",
       "       7.85457470e-02, 2.19994818e-01, 2.01862196e-01, 3.31909176e-01,\n",
       "       1.04182432e-01, 8.70490846e-01, 2.67996675e-01, 8.86544799e-01,\n",
       "       1.90477706e-01, 7.58524903e-01, 8.77827202e-01, 7.74756812e-01,\n",
       "       6.60321715e-01, 3.26926355e-01, 8.36387267e-01, 4.45981835e-01,\n",
       "       1.33896307e-01, 5.45319605e-01, 4.40812233e-01, 4.17768336e-01,\n",
       "       9.09505374e-01, 4.64461773e-01, 3.70925173e-01, 6.07579408e-01,\n",
       "       2.74326802e-02, 7.00146230e-01, 7.60231249e-01, 1.86645114e-01,\n",
       "       1.11241770e-01, 7.47085278e-01, 1.30914979e-01, 4.43133584e-01,\n",
       "       2.45124206e-03, 1.10203693e-01, 6.08734873e-01, 5.11391043e-01,\n",
       "       2.19746625e-01, 4.55197453e-01, 6.38105407e-01, 1.12402171e-01,\n",
       "       7.98131277e-01, 9.23346191e-01, 4.29605152e-01, 8.09571544e-01,\n",
       "       4.30765918e-01, 6.01990055e-01, 5.47468555e-01, 6.41812234e-01,\n",
       "       3.89575442e-01, 1.18239043e-01, 1.26324263e-01, 4.95216402e-01,\n",
       "       2.77659146e-01, 3.54511323e-01, 3.55097269e-01, 8.81825871e-01,\n",
       "       7.11657998e-01, 3.89704393e-01, 9.72222162e-01, 3.85266219e-01,\n",
       "       2.63789013e-01, 8.05633062e-01, 6.63565458e-01, 3.67549342e-01,\n",
       "       3.26614180e-01, 5.29662809e-02, 4.27473087e-02, 3.79235289e-01,\n",
       "       6.18927994e-01, 5.02956161e-01, 6.33549343e-01, 8.77438719e-01,\n",
       "       1.99262575e-01, 2.93139214e-03, 9.25356839e-01, 8.13970318e-01,\n",
       "       6.33942253e-01, 7.37115774e-01, 4.81671423e-01, 6.73888376e-01,\n",
       "       2.55678384e-01, 3.72692617e-01, 4.70220422e-01, 4.86438284e-01,\n",
       "       3.91057554e-01, 6.95202992e-01, 2.98211829e-01, 9.53353538e-02,\n",
       "       7.28053877e-01, 5.94326885e-01, 7.17203533e-01, 2.86378274e-01,\n",
       "       5.19745662e-01, 9.19049827e-01, 7.70201284e-01, 8.42303066e-01,\n",
       "       2.97701849e-01, 4.93701884e-01, 4.58234841e-01, 8.67139720e-01,\n",
       "       9.99106022e-01, 7.09979678e-01, 3.13583898e-01, 7.13823582e-01,\n",
       "       1.11353564e-01, 9.96613741e-01, 3.33192486e-01, 8.28648486e-01,\n",
       "       9.33870305e-01, 4.88910543e-01, 7.65096764e-01, 4.14427475e-01,\n",
       "       9.58421995e-01, 6.61997420e-01, 6.03530034e-01, 8.29676565e-01,\n",
       "       4.69858314e-01, 5.64892608e-01, 1.67224960e-01, 9.41679602e-02,\n",
       "       3.77350564e-01, 9.33981755e-01, 2.30203189e-01, 3.53879885e-01,\n",
       "       1.50229357e-01, 2.66175331e-01, 1.65109196e-01, 1.42258672e-01,\n",
       "       9.01730028e-01, 2.75061695e-01, 1.56152715e-01, 8.23227244e-01,\n",
       "       1.77435842e-01, 1.35436202e-01, 4.64984114e-01, 2.25104581e-02,\n",
       "       6.37999521e-01, 8.82408994e-01, 9.73899903e-01, 8.32767893e-01,\n",
       "       5.02698847e-01, 6.92561966e-01, 2.57948648e-02, 4.67132487e-01,\n",
       "       2.26653692e-01, 4.91186069e-01, 7.59984121e-01, 1.43913655e-01,\n",
       "       8.91172785e-02, 4.98429729e-01, 9.38319278e-01, 5.76754223e-01,\n",
       "       4.68260695e-01, 7.46778720e-01, 9.11118584e-01, 6.58997567e-01,\n",
       "       6.45048459e-01, 4.49139474e-01, 2.43884854e-01, 8.77551231e-01,\n",
       "       2.95608751e-01, 2.86342068e-01, 1.80255329e-01, 4.79972842e-01,\n",
       "       3.87561013e-01, 4.14575774e-02, 5.00745801e-01, 4.85075216e-01,\n",
       "       1.39787155e-01, 4.32043729e-01, 1.67906489e-01, 9.80079905e-01,\n",
       "       3.94991499e-01, 1.26895366e-01, 4.09904992e-02, 2.89261303e-01,\n",
       "       6.00266233e-01, 3.27389812e-01, 4.51448100e-01, 3.54119659e-01,\n",
       "       6.82115852e-01, 4.55724535e-01, 7.86974784e-01, 7.16510633e-01,\n",
       "       1.36345470e-01, 3.30560964e-03, 7.54990237e-01, 2.34168366e-02,\n",
       "       6.41487180e-01, 4.48279978e-01, 7.26294436e-01, 5.65879638e-01,\n",
       "       8.08398127e-02, 9.03936354e-01, 8.69491871e-01, 3.54542227e-01,\n",
       "       6.82321425e-01, 7.75724640e-01, 2.15984212e-01, 5.94135683e-01,\n",
       "       6.33760194e-01, 8.89425186e-01, 6.44964628e-01, 3.51432346e-01,\n",
       "       7.39877221e-02, 7.05053053e-01, 6.53918181e-01, 3.79155231e-01,\n",
       "       1.17952879e-01, 1.91025485e-01, 7.92215361e-01, 2.25293043e-01,\n",
       "       6.53896209e-01, 4.19964744e-01, 2.41802292e-01, 4.14916962e-01,\n",
       "       6.95333290e-01, 1.05675358e-01, 4.43818521e-01, 3.62742806e-01,\n",
       "       9.13345721e-01, 5.33336549e-01, 2.98156669e-01, 8.07806605e-01,\n",
       "       2.16720043e-01, 2.01174394e-01, 8.67029129e-01, 8.44867508e-01,\n",
       "       6.47144713e-01, 4.79930422e-01, 8.70483724e-01, 2.22173043e-01,\n",
       "       1.51066576e-01, 4.72879304e-02, 1.69813778e-01, 5.62994056e-01,\n",
       "       7.23411691e-01, 2.51351628e-01, 6.61012817e-01, 6.22019556e-01,\n",
       "       8.96058223e-01, 2.43837334e-01, 4.73649222e-01, 2.50371013e-01,\n",
       "       8.21537498e-02, 2.49345963e-01, 6.49787836e-01, 2.31763597e-01,\n",
       "       6.87699487e-02, 6.10896365e-01, 9.44777911e-01, 2.27355224e-01,\n",
       "       3.90675079e-01, 9.22042629e-01, 5.58120724e-01, 2.91360798e-01,\n",
       "       1.52922326e-02, 7.86934883e-01, 6.32559082e-01, 9.72875705e-01,\n",
       "       9.18457646e-01, 3.86925709e-01, 7.09447194e-01, 2.68348749e-01,\n",
       "       9.89402260e-01, 3.20945639e-01, 7.47936124e-01, 5.80560235e-01,\n",
       "       3.20373549e-01, 7.02877800e-01, 3.11252801e-01, 5.23640319e-01,\n",
       "       8.88949773e-01, 2.47370483e-01, 4.08311129e-01, 8.38008989e-01,\n",
       "       9.54527464e-01, 3.78849388e-01, 4.14223690e-01, 7.68610897e-01,\n",
       "       4.12307530e-01, 9.65591481e-01, 3.36335231e-01, 8.07288198e-01,\n",
       "       9.50665656e-01, 5.80523729e-01, 3.43860520e-01, 8.96090707e-01,\n",
       "       7.87261452e-01, 9.61113184e-01, 8.80251823e-01, 8.12206550e-01,\n",
       "       2.14618562e-02, 7.14547869e-01, 3.72446116e-01, 9.01608103e-01,\n",
       "       8.51218914e-01, 1.28589579e-01, 6.86926416e-01, 9.46491118e-01,\n",
       "       1.87138278e-01, 4.84682119e-01, 7.44504613e-02, 9.56485730e-01,\n",
       "       5.87456720e-01, 5.12229465e-01, 7.39390094e-01, 2.21051438e-01,\n",
       "       1.52699439e-01, 1.92991450e-01, 3.94268837e-01, 3.39195538e-01,\n",
       "       3.80704651e-01, 9.72371820e-02, 1.12031209e-01, 6.51347569e-01,\n",
       "       3.02513718e-01, 3.22316417e-01, 3.63289656e-01, 5.03395906e-01,\n",
       "       9.03813676e-01, 4.65274481e-02, 7.45054665e-01, 4.43450069e-01,\n",
       "       3.02157783e-01, 3.09319354e-01, 2.96432758e-02, 6.22396315e-01,\n",
       "       7.89494216e-01, 8.40873667e-01, 5.89822138e-01, 2.51565423e-01,\n",
       "       5.67261147e-01, 6.54721031e-01, 9.70720683e-01, 1.81753121e-02,\n",
       "       6.59493219e-01, 7.43352429e-01, 3.02413560e-01, 9.83090002e-01,\n",
       "       7.24917865e-01, 8.24157994e-01, 5.44555156e-01, 2.77032361e-01,\n",
       "       2.91950309e-01, 8.70906000e-01, 2.72034155e-01, 9.88853120e-01,\n",
       "       1.24427427e-01, 5.30625712e-01, 4.29048305e-01, 3.48805418e-01,\n",
       "       3.27936577e-01, 5.47701291e-01, 6.56094118e-01, 9.60571505e-01,\n",
       "       7.51886578e-01, 9.50432847e-01, 4.99278459e-01, 5.04737307e-01,\n",
       "       9.71570886e-01, 2.78914526e-01, 8.96409175e-01, 3.22362618e-01,\n",
       "       8.03266249e-01, 3.05304431e-01, 7.54811083e-01, 9.56010173e-01,\n",
       "       8.62935456e-01, 8.55985759e-01, 4.60916990e-01, 6.51971117e-02,\n",
       "       1.89682815e-01, 8.07902085e-01, 3.89822543e-02, 9.50677804e-01,\n",
       "       3.61014303e-01, 2.48395341e-01, 3.33035399e-01, 6.98067521e-01,\n",
       "       1.45130828e-01, 6.68106420e-01, 1.11634553e-01, 9.70055301e-01,\n",
       "       6.11066326e-01, 4.25951504e-01, 7.56840414e-01, 7.55856458e-01,\n",
       "       4.49349111e-01, 7.77166714e-01, 9.22510109e-01, 9.65193846e-01,\n",
       "       3.26001965e-01, 6.49331336e-01, 2.04547485e-01, 7.18364971e-01,\n",
       "       8.61011071e-01, 1.76838811e-01, 3.79948012e-01, 9.67278265e-01,\n",
       "       6.47779708e-01, 7.33840393e-01, 1.88815644e-01, 2.05128946e-01,\n",
       "       2.98491333e-01, 5.52992184e-01, 8.58988218e-01, 9.97648132e-01,\n",
       "       8.65372569e-01, 4.20952639e-01, 2.45206856e-01, 1.08772683e-01,\n",
       "       7.44474602e-01, 2.37012241e-01, 7.13454330e-01, 2.97358364e-01,\n",
       "       9.88320162e-01, 1.75800560e-01, 3.23233923e-01, 6.67613292e-01,\n",
       "       6.80446583e-01, 4.91455187e-01, 5.61846164e-01, 4.27754222e-02,\n",
       "       9.78481038e-01, 1.35727051e-02, 7.15659195e-01, 4.40406340e-01,\n",
       "       5.05715214e-01, 1.43667112e-01, 6.38242716e-02, 3.03495216e-02,\n",
       "       7.24525165e-02, 6.94191476e-01, 5.08822800e-01, 7.83868932e-01,\n",
       "       5.98315184e-01, 5.43172704e-01, 7.20890959e-01, 4.44945197e-01,\n",
       "       1.57415922e-01, 9.72813245e-01, 6.91539797e-01, 3.61107144e-01,\n",
       "       4.45232992e-01, 7.10637159e-05, 4.56475078e-02, 7.87644541e-01,\n",
       "       6.50008643e-02, 8.41053695e-01, 1.26878414e-02, 6.76417792e-01,\n",
       "       8.63785450e-02, 6.71258229e-01, 8.32202583e-01, 6.08695348e-01,\n",
       "       6.27099101e-01, 9.78109031e-01, 6.34487286e-01, 5.15910540e-01,\n",
       "       1.65332825e-01, 5.21804109e-01, 3.99888891e-01, 1.52403576e-01,\n",
       "       8.26080672e-01, 4.24266871e-01, 7.78796200e-01, 7.99382822e-01,\n",
       "       5.50050064e-01, 8.42173204e-02, 5.74584969e-01, 7.76703263e-01,\n",
       "       3.91621290e-01, 9.17674756e-01, 2.86107231e-01, 2.86465596e-02,\n",
       "       9.63296055e-02, 1.14357005e-01, 3.11295709e-01, 2.30442051e-01,\n",
       "       6.76468608e-02, 3.22350366e-01, 5.95983256e-01, 7.70282845e-02,\n",
       "       7.61944480e-01, 4.94954701e-01, 3.33283351e-02, 8.60917488e-01,\n",
       "       4.05514036e-01, 9.63443994e-01, 9.05358466e-01, 8.82051855e-01,\n",
       "       7.72772170e-01, 1.43430549e-01, 5.40727195e-01, 1.56666781e-01,\n",
       "       1.66284828e-01, 3.27761280e-01, 4.81598791e-02, 5.58949270e-01,\n",
       "       9.82314210e-02, 7.29186282e-01, 9.87519755e-01, 6.86476139e-01,\n",
       "       2.24746641e-02, 3.15778644e-01, 9.05683100e-01, 3.67482043e-01,\n",
       "       1.75892494e-01, 8.40073711e-01, 3.36481872e-03, 5.37048594e-01,\n",
       "       2.15068123e-01, 9.62094268e-02, 5.46055335e-01, 3.09087633e-01,\n",
       "       7.50764445e-01, 2.89835212e-01, 8.82226696e-01, 6.38153690e-01,\n",
       "       8.91608700e-01, 3.28560894e-01, 9.50748942e-01, 5.81968777e-01,\n",
       "       1.07688701e-01, 2.89038385e-01, 3.11203114e-01, 6.76091181e-02,\n",
       "       7.28350482e-01, 7.93186036e-01, 8.09055545e-02, 1.68771461e-01,\n",
       "       3.22367338e-01, 8.74723427e-01, 3.84058777e-01, 6.14575958e-01,\n",
       "       3.73195689e-01, 7.16560053e-01, 4.01108629e-01, 3.18089038e-01,\n",
       "       5.42655168e-01, 3.58393901e-01, 4.77322618e-01, 1.62838580e-01,\n",
       "       2.40726470e-01, 7.23048021e-01, 5.95680941e-01, 3.30477032e-01,\n",
       "       5.38413083e-01, 6.44247540e-01, 4.09343818e-01, 6.72364916e-01,\n",
       "       6.56483428e-01, 2.70620492e-01, 2.77330822e-01, 9.36440561e-01,\n",
       "       6.73961982e-01, 4.96719821e-01, 8.08674013e-01, 6.45259448e-01,\n",
       "       1.01764262e-01, 2.65367299e-01, 9.94241527e-01, 3.32233384e-01,\n",
       "       7.62489253e-01, 2.26782280e-01, 5.05559484e-01, 7.00256542e-01,\n",
       "       4.00236670e-01, 7.09770872e-01, 8.03223636e-02, 7.23424921e-01,\n",
       "       1.49762270e-01, 4.70968531e-01, 6.88453886e-01, 7.29834591e-01,\n",
       "       4.99922797e-01, 1.74683967e-01, 9.89968208e-01, 3.01732859e-01,\n",
       "       7.22064706e-01, 5.30208617e-02, 2.06500757e-01, 7.04857419e-01,\n",
       "       1.35756504e-01, 2.67603651e-02, 9.39672482e-01, 5.06299332e-01,\n",
       "       4.73853730e-01, 2.62561578e-01, 1.33218120e-01, 2.16506387e-01,\n",
       "       3.16975509e-01, 4.85069505e-01, 8.31355947e-01, 2.36392306e-02,\n",
       "       8.15798681e-01, 8.76822078e-01, 7.85437551e-01, 7.55806781e-01])"
      ]
     },
     "execution_count": 267,
     "metadata": {},
     "output_type": "execute_result"
    }
   ],
   "source": [
    "loaded_data"
   ]
  },
  {
   "cell_type": "markdown",
   "metadata": {},
   "source": [
    "# Reading File with Tabular Data"
   ]
  },
  {
   "cell_type": "code",
   "execution_count": 274,
   "metadata": {},
   "outputs": [],
   "source": [
    "data_txt=np.genfromtxt('car_sales.csv',delimiter=' ',names=True)"
   ]
  },
  {
   "cell_type": "code",
   "execution_count": 275,
   "metadata": {},
   "outputs": [
    {
     "data": {
      "text/plain": [
       "array([(nan, nan), (nan, nan), (nan, nan), (nan, nan), (nan, nan),\n",
       "       (nan, nan), (nan, nan), (nan, nan), (nan, nan), (nan, nan)],\n",
       "      dtype=[('MakeColourOdometer', '<f8'), ('KMDoorsPrice', '<f8')])"
      ]
     },
     "execution_count": 275,
     "metadata": {},
     "output_type": "execute_result"
    }
   ],
   "source": [
    "data_txt"
   ]
  },
  {
   "cell_type": "code",
   "execution_count": null,
   "metadata": {},
   "outputs": [],
   "source": []
  }
 ],
 "metadata": {
  "kernelspec": {
   "display_name": "Python 3",
   "language": "python",
   "name": "python3"
  },
  "language_info": {
   "codemirror_mode": {
    "name": "ipython",
    "version": 3
   },
   "file_extension": ".py",
   "mimetype": "text/x-python",
   "name": "python",
   "nbconvert_exporter": "python",
   "pygments_lexer": "ipython3",
   "version": "3.7.6"
  }
 },
 "nbformat": 4,
 "nbformat_minor": 4
}
